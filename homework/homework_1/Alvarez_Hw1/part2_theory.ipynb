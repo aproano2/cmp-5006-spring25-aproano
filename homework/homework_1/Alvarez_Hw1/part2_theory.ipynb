{
 "cells": [
  {
   "cell_type": "markdown",
   "metadata": {},
   "source": [
    "# **Part 2. Theory**\n",
    "\n",
    "## **1. Involutory Keys in the Shift Cipher**"
   ]
  },
  {
   "cell_type": "markdown",
   "metadata": {},
   "source": [
    "![Shift Cipher](imgs/shift_cipher.jpg)"
   ]
  },
  {
   "cell_type": "markdown",
   "metadata": {},
   "source": [
    "## **2. Permutation Cipher**"
   ]
  },
  {
   "cell_type": "markdown",
   "metadata": {},
   "source": [
    "### **a) Cálculo de la permutación inversa \\( \\pi^{-1} \\)**\n",
    "![PI Cipher](imgs/a_pi.jpg)\n",
    "\n",
    "### **b) Descifrado del texto cifrado**\n",
    "![DEC Cipher](imgs/b_decifrado.jpg)"
   ]
  },
  {
   "cell_type": "markdown",
   "metadata": {},
   "source": [
    "## **3. Below are given four examples of ciphertext, one obtained from a Substitution Cipher, one from a Vigenere Cipher, one from an Affine Cipher, and one unspecified. In each case, the task is to determine the plaintext. Give a clearly written description of the steps you followed to decrypt each ciphertext. This should include all statistical analysis and computations you performed.**"
   ]
  },
  {
   "cell_type": "markdown",
   "metadata": {},
   "source": [
    "## - **Substitution:**"
   ]
  },
  {
   "cell_type": "markdown",
   "metadata": {},
   "source": [
    "EMGLOSUDCGDNCUSWYSFHNSFCYKDPUMLWGYICOXYSIPJCK\n",
    "QPKUGKMGOLICGINCGACKSNISACYKZSCKXECJCKSHYSXCG\n",
    "OIDPKZCNKSHICGIWYGKKGKGOLDSILKGOIUSIGLEDSPWZU\n",
    "GFZCCNDGYYSFUSZCNXEOJNCGYEOWEUPXEZGACGNFGLKNS\n",
    "ACIGOIYCKXCJUCIUZCFZCCNDGYYSFEUEKUZCSOCFZCCNC\n",
    "IACZEJNCSHFZEJZEGMXCYHCJUMGKUCY"
   ]
  },
  {
   "cell_type": "markdown",
   "metadata": {},
   "source": [
    "**Solution** "
   ]
  },
  {
   "cell_type": "markdown",
   "metadata": {},
   "source": [
    "![Probabilitie Table](imgs/tabla_prob.png)"
   ]
  },
  {
   "cell_type": "code",
   "execution_count": 2,
   "metadata": {},
   "outputs": [
    {
     "name": "stdout",
     "output_type": "stream",
     "text": [
      "Letter | Frequency\n",
      "-----------------\n",
      "   C   |     37\n",
      "   G   |     24\n",
      "   S   |     20\n",
      "   K   |     18\n",
      "   Y   |     15\n",
      "   I   |     15\n",
      "   U   |     14\n",
      "   N   |     13\n",
      "   Z   |     13\n",
      "   E   |     12\n",
      "   O   |     10\n",
      "   F   |     9\n",
      "   D   |     8\n",
      "   L   |     7\n",
      "   X   |     7\n",
      "   J   |     7\n",
      "   P   |     6\n",
      "   M   |     5\n",
      "   W   |     5\n",
      "   H   |     5\n",
      "   A   |     5\n",
      "   Q   |     1\n",
      "\n",
      "Trigram | Frequency\n",
      "-------------------\n",
      "  YSF  |    3\n",
      "  GOI  |    3\n",
      "  FZC  |    3\n",
      "  ZCC  |    3\n",
      "  CCN  |    3\n",
      "  CYK  |    2\n",
      "  JCK  |    2\n",
      "  GOL  |    2\n",
      "  ICG  |    2\n",
      "  CGI  |    2\n"
     ]
    }
   ],
   "source": [
    "import collections\n",
    "\n",
    "# Encrypted text (ciphertext)\n",
    "ciphertext = \"\"\"\n",
    "EMGLOSUDCGDNCUSWYSFHNSFCYKDPUMLWGYICOXYSIPJCK\n",
    "QPKUGKMGOLICGINCGACKSNISACYKZSCKXECJCKSHYSXCG\n",
    "OIDPKZCNKSHICGIWYGKKGKGOLDSILKGOIUSIGLEDSPWZU\n",
    "GFZCCNDGYYSFUSZCNXEOJNCGYEOWEUPXEZGACGNFGLKNS\n",
    "ACIGOIYCKXCJUCIUZCFZCCNDGYYSFEUEKUZCSOCFZCCNC\n",
    "IACZEJNCSHFZEJZEGMXCYHCJUMGKUCY\n",
    "\"\"\".replace(\"\\n\", \"\")\n",
    "\n",
    "# Count letter frequency\n",
    "letter_freq = collections.Counter(ciphertext)\n",
    "\n",
    "# Filter only alphabetic letters and sort by frequency\n",
    "sorted_letter_freq = sorted(letter_freq.items(), key=lambda item: item[1], reverse=True)\n",
    "\n",
    "# Count trigrams (sequences of 3 consecutive letters)\n",
    "trigram_freq = collections.Counter(ciphertext[i:i+3] for i in range(len(ciphertext) - 2))\n",
    "\n",
    "# Sort trigrams by frequency\n",
    "sorted_trigram_freq = sorted(trigram_freq.items(), key=lambda item: item[1], reverse=True)\n",
    "\n",
    "# Display letter frequencies\n",
    "print(\"Letter | Frequency\")\n",
    "print(\"-----------------\")\n",
    "for letter, freq in sorted_letter_freq:\n",
    "    print(f\"   {letter}   |     {freq}\")\n",
    "\n",
    "# Display trigram frequencies\n",
    "print(\"\\nTrigram | Frequency\")\n",
    "print(\"-------------------\")\n",
    "for trigram, freq in sorted_trigram_freq[:10]:  # Show only top 10 trigrams\n",
    "    print(f\"  {trigram}  |    {freq}\")\n"
   ]
  },
  {
   "cell_type": "markdown",
   "metadata": {},
   "source": [
    "First, the most frequent letter in the ciphertext is assigned to 'E', as it is the most common letter in English. Then, additional mappings are applied based on observed digrams and trigrams, such as '0' → 'N', 'U' → 'T', since these combinations frequently appear in common words. As more correct substitutions are identified, new letters can be inferred from the structure of the resulting words. The code displays the frequency of each letter in the ciphertext, its ranking, and its assigned counterpart in English. Finally, a preliminary decrypted text is printed, allowing an evaluation of whether the substitutions follow a logical pattern and refining them as needed. Also, searching patterns such as CG - EA. Also, the triagrams with C at the end makes us assume is THE, as its the most use."
   ]
  },
  {
   "cell_type": "code",
   "execution_count": 3,
   "metadata": {},
   "outputs": [
    {
     "name": "stdout",
     "output_type": "stream",
     "text": [
      "Letter | Frequency | Rank | Mapping\n",
      "--------------------------------------\n",
      "  C   |     37      |  1  |  E\n",
      "  G   |     24      |  2  |  ?\n",
      "  S   |     20      |  3  |  O\n",
      "  K   |     18      |  4  |  S\n",
      "  Y   |     15      |  5  |  ?\n",
      "  I   |     15      |  6  |  D\n",
      "  U   |     14      |  7  |  T\n",
      "  N   |     13      |  8  |  H\n",
      "  Z   |     13      |  9  |  H\n",
      "  E   |     12      |  10  |  I\n",
      "  O   |     10      |  11  |  N\n",
      "  F   |     9      |  12  |  ?\n",
      "  D   |     8      |  13  |  B\n",
      "  L   |     7      |  14  |  Y\n",
      "  X   |     7      |  15  |  P\n",
      "  J   |     7      |  16  |  C\n",
      "  P   |     6      |  17  |  U\n",
      "  M   |     5      |  18  |  M\n",
      "  W   |     5      |  19  |  G\n",
      "  H   |     5      |  20  |  ?\n",
      "  A   |     5      |  21  |  ?\n",
      "  Q   |     1      |  22  |  J\n",
      "\n",
      "Preliminary decrypted text:\n",
      "IMGYNOTBEGBHETOGYOFHHOFEYSBUTMYGGYDENPYODUCESJUSTGSMGNYDEGDHEGAESOHDOAEYSHOESPIECESOHYOPEGNDBUSHEHSOHDEGDGYGSSGSGNYBODYSGNDTODGYIBOUGHTGFHEEHBGYYOFTOHEHPINCHEGYINGITUPIHGAEGHFGYSHOAEDGNDYESPECTEDTHEFHEEHBGYYOFITISTHEONEFHEEHEDAEHICHEOHFHICHIGMPEYHECTMGSTEY\n",
      "\n"
     ]
    }
   ],
   "source": [
    "import collections\n",
    "\n",
    "# Encrypted text (ciphertext)\n",
    "ciphertext = \"\"\"\n",
    "EMGLOSUDCGDNCUSWYSFHNSFCYKDPUMLWGYICOXYSIPJCK\n",
    "QPKUGKMGOLICGINCGACKSNISACYKZSCKXECJCKSHYSXCG\n",
    "OIDPKZCNKSHICGIWYGKKGKGOLDSILKGOIUSIGLEDSPWZU\n",
    "GFZCCNDGYYSFUSZCNXEOJNCGYEOWEUPXEZGACGNFGLKNS\n",
    "ACIGOIYCKXCJUCIUZCFZCCNDGYYSFEUEKUZCSOCFZCCNC\n",
    "IACZEJNCSHFZEJZEGMXCYHCJUMGKUCY\n",
    "\"\"\".replace(\"\\n\", \"\")\n",
    "\n",
    "# Count the frequency of each letter in the ciphertext\n",
    "letter_freq = collections.Counter(ciphertext)\n",
    "\n",
    "# Filter only alphabetic letters and sort by frequency\n",
    "sorted_letter_freq = sorted(letter_freq.items(), key=lambda item: item[1], reverse=True)\n",
    "\n",
    "# Create a ranking of letters based on frequency\n",
    "rank = {sorted_letter_freq[i][0]: i + 1 for i in range(len(sorted_letter_freq))}\n",
    "\n",
    "# Assign the most frequent letter to 'E' and continue with other substitutions based on analysis\n",
    "substitution_map = {}\n",
    "if sorted_letter_freq:\n",
    "    mappings_from_analysis = {\n",
    "        'C': 'E', 'Q': 'J', 'Z': 'H', 'N': 'H', 'U': 'T', 'S': 'O', 'O': 'N', 'K': 'S',\n",
    "        'I': 'D', 'W': 'G', 'L': 'Y', 'X': 'P', 'J': 'C', 'E': 'I', 'P': 'U',\n",
    "        'D': 'B', 'M': 'M'\n",
    "    }\n",
    "    substitution_map.update(mappings_from_analysis)\n",
    "\n",
    "# Apply substitution\n",
    "decrypted_text = \"\".join(substitution_map.get(c, c) for c in ciphertext)\n",
    "\n",
    "# Display letter frequencies, ranking, and initial mapping\n",
    "print(\"Letter | Frequency | Rank | Mapping\")\n",
    "print(\"--------------------------------------\")\n",
    "for letter, freq in sorted_letter_freq:\n",
    "    mapped = substitution_map.get(letter, \"?\")\n",
    "    print(f\"  {letter}   |     {freq}      |  {rank[letter]}  |  {mapped}\")\n",
    "\n",
    "# Display the preliminary decrypted text without line breaks\n",
    "print(\"\\nPreliminary decrypted text:\")\n",
    "print(decrypted_text, end=\"\\n\\n\")"
   ]
  },
  {
   "cell_type": "markdown",
   "metadata": {},
   "source": [
    "The approach used in this refinement follows the principles outlined in the book for substitution cipher decryption. Initially, the ciphertext was processed using frequency analysis, identifying the most common letter and mapping it to 'E', the most frequent letter in English. Then, additional mappings were derived from digram and trigram patterns, refining the substitution.\n",
    "\n",
    "However, the preliminary decryption still contained partially deciphered words, requiring refinements. To improve accurace we identify common English words that appeared partially recognizable in the decrypted text.\n",
    "Matching word structures with expected patterns based on previously substituted letters.\n",
    "Using regular expressions and predefined mappings to replace incomplete fragments with their correct English equivalents.\n",
    "For instance:\n",
    "\n",
    "\"IMGY\" was recognized as \"I MAY\", aligning with the structure of common phrases.\n",
    "\"BEGBLE\" was corrected to \"BE ABLE\". \n",
    "\n",
    "By refining the text through pattern-based substitutions, we achieved a more coherent and readable decrypted message by changing letters to form these words. "
   ]
  },
  {
   "cell_type": "code",
   "execution_count": 4,
   "metadata": {},
   "outputs": [
    {
     "name": "stdout",
     "output_type": "stream",
     "text": [
      "Letter | Frequency | Rank | Mapping\n",
      "--------------------------------------\n",
      "  C   |     37      |  1  |  E\n",
      "  G   |     24      |  2  |  A\n",
      "  S   |     20      |  3  |  O\n",
      "  K   |     18      |  4  |  S\n",
      "  Y   |     15      |  5  |  R\n",
      "  I   |     15      |  6  |  D\n",
      "  U   |     14      |  7  |  T\n",
      "  N   |     13      |  8  |  L\n",
      "  Z   |     13      |  9  |  H\n",
      "  E   |     12      |  10  |  I\n",
      "  O   |     10      |  11  |  N\n",
      "  F   |     9      |  12  |  W\n",
      "  D   |     8      |  13  |  B\n",
      "  L   |     7      |  14  |  Y\n",
      "  X   |     7      |  15  |  P\n",
      "  J   |     7      |  16  |  C\n",
      "  P   |     6      |  17  |  U\n",
      "  M   |     5      |  18  |  M\n",
      "  W   |     5      |  19  |  G\n",
      "  H   |     5      |  20  |  F\n",
      "  A   |     5      |  21  |  V\n",
      "  Q   |     1      |  22  |  J\n",
      "\n",
      "Preliminary decrypted text:\n",
      "IMAYNOTBEABLETOGROWFLOWERSBUTMYGARDENPRODUCESJUSTASMANYDEADLEAVESOLDOVERSHOESPIECESOFROPEANDBUSHELSOFDEADGRASSASANYBODYSANDTODAYIBOUGHTAWHEELBARROWTOHELPINCLEARINGITUPIHAVEALWAYSLOVEDANDRESPECTEDTHEWHEELBARROWITISTHEONEWHEELEDVEHICLEOFWHICHIAMPERFECTMASTER\n",
      "\n"
     ]
    }
   ],
   "source": [
    "import collections\n",
    "\n",
    "# Encrypted text (ciphertext)\n",
    "ciphertext = \"\"\"\n",
    "EMGLOSUDCGDNCUSWYSFHNSFCYKDPUMLWGYICOXYSIPJCK\n",
    "QPKUGKMGOLICGINCGACKSNISACYKZSCKXECJCKSHYSXCG\n",
    "OIDPKZCNKSHICGIWYGKKGKGOLDSILKGOIUSIGLEDSPWZU\n",
    "GFZCCNDGYYSFUSZCNXEOJNCGYEOWEUPXEZGACGNFGLKNS\n",
    "ACIGOIYCKXCJUCIUZCFZCCNDGYYSFEUEKUZCSOCFZCCNC\n",
    "IACZEJNCSHFZEJZEGMXCYHCJUMGKUCY\n",
    "\"\"\".replace(\"\\n\", \"\")\n",
    "\n",
    "# Count the frequency of each letter in the ciphertext\n",
    "letter_freq = collections.Counter(ciphertext)\n",
    "\n",
    "# Filter only alphabetic letters and sort by frequency\n",
    "sorted_letter_freq = sorted(letter_freq.items(), key=lambda item: item[1], reverse=True)\n",
    "\n",
    "# Create a ranking of letters based on frequency\n",
    "rank = {sorted_letter_freq[i][0]: i + 1 for i in range(len(sorted_letter_freq))}\n",
    "\n",
    "# Assign the most frequent letter to 'E' and continue with other substitutions based on analysis\n",
    "substitution_map = {\n",
    "    'C': 'E', 'Q': 'J', 'Z': 'H', 'N': 'L', 'U': 'T', 'S': 'O', 'O': 'N', 'K': 'S',\n",
    "    'I': 'D', 'A': 'V', 'W': 'G', 'L': 'Y', 'X': 'P', 'J': 'C', 'E': 'I', 'P': 'U',\n",
    "    'D': 'B', 'M': 'M', 'B': 'E', 'F': 'W', 'G': 'A', 'H': 'F', 'R': 'P', 'T': 'Y', 'Y': 'R'\n",
    "}\n",
    "\n",
    "# Apply substitution\n",
    "decrypted_text = \"\".join(substitution_map.get(c, c) for c in ciphertext)\n",
    "\n",
    "# Display letter frequencies, ranking, and initial mapping\n",
    "print(\"Letter | Frequency | Rank | Mapping\")\n",
    "print(\"--------------------------------------\")\n",
    "for letter, freq in sorted_letter_freq:\n",
    "    mapped = substitution_map.get(letter, \"?\")\n",
    "    print(f\"  {letter}   |     {freq}      |  {rank[letter]}  |  {mapped}\")\n",
    "\n",
    "# Display the preliminary decrypted text without line breaks\n",
    "print(\"\\nPreliminary decrypted text:\")\n",
    "print(decrypted_text, end=\"\\n\\n\")\n"
   ]
  },
  {
   "cell_type": "markdown",
   "metadata": {},
   "source": [
    "**Decrypted text**"
   ]
  },
  {
   "cell_type": "markdown",
   "metadata": {},
   "source": [
    "I may not be able to grow flowers but my garden produces\n",
    "just as many dead leaves old overshoes pieces of rope and\n",
    "bushes of dead grass as anybodys and today I bought\n",
    "a wheelbarrow to help in clearing it up I have always\n",
    "loved and respected the wheelbarrow it is the one\n",
    "wheeled vehicle of which I am perfect master"
   ]
  },
  {
   "cell_type": "markdown",
   "metadata": {},
   "source": [
    "Discoverd a word appears twice: FZCCNDGYYSF later known as → wheelbarrow\n",
    "- C → e – because C is the most frequent letter\n",
    "- G → A – CG assumed that e+a beacuse its also frequent\n",
    "- Q → j – once\n",
    "- Y → R – GAYDEN → GARDEN  \n",
    "- F → W - GROF → guess: GROW\n",
    "- H →  F - HLOFEY (HLOWER) → FLOWER\n",
    "- U → T – That work at firts\n",
    "- O → n – O occurred 5 times and is a frequent English digram.\n",
    "- K → s – 4th most used letter decided to use the probability table and got it right at first\n",
    "- I → d – Selected from the table\n",
    "- A → v – least probability exchange from z to v\n",
    "- W → g – Guessed\n",
    "- M → m – IMGYNOT → I may not\n",
    "The rest I used subtitution to form complete words and used the probability table.  "
   ]
  },
  {
   "cell_type": "markdown",
   "metadata": {},
   "source": [
    "## - **Vigenere Cipher:**"
   ]
  },
  {
   "cell_type": "markdown",
   "metadata": {},
   "source": [
    "KCCPKBGUFDPHQTYAVINRRTMVGRKDNBVFDETDGILTXRGUD\n",
    "DKOTFMBPVGEGLTGCKQRACQCWDNAWCRXIZAKFTLEWRPTYC\n",
    "QKYVXCHKFTPONCQQRHJVAJUWETMCMSPKQDYHJVDAHCTRL\n",
    "SVSKCGCZQQDZXGSFRLSWCWSJTBHAFSIASPRJAHKJRJUMV\n",
    "GKMITZHFPDISPZLVLGWTFPLKKEBDPGCEBSHCTJRWXBAFS\n",
    "PEZQNRWXCVYCGAONWDDKACKAWBBIKFTIOVKCGGHJVLNHI\n",
    "FFSQESVYCLACNVRWBBIREPBBVFEXOSCDYGZWPFDTKFQIY\n",
    "CWHJVLNHIQIBTKHJVNPIST"
   ]
  },
  {
   "cell_type": "markdown",
   "metadata": {},
   "source": [
    "**Solution** "
   ]
  },
  {
   "cell_type": "code",
   "execution_count": 18,
   "metadata": {},
   "outputs": [
    {
     "name": "stdout",
     "output_type": "stream",
     "text": [
      "Repeated sequences and their distances:\n",
      "Sequence                 Positions         Intervals\n",
      "     MVG                 [23, 179]             [156]\n",
      "     BVF                 [30, 294]             [264]\n",
      "     DDK                 [45, 243]             [198]\n",
      "     KFT             [80, 98, 254]         [18, 156]\n",
      "     HJV [108, 126, 264, 318, 330] [18, 138, 54, 12]\n",
      "     HCT                [131, 215]              [84]\n",
      "     RLS                [134, 152]              [18]\n",
      "     KCG                [139, 260]             [121]\n",
      "     AFS                [163, 223]              [60]\n",
      "     RWX                [219, 231]              [12]\n",
      "     VYC                [235, 277]              [42]\n",
      "     WBB                [250, 286]              [36]\n",
      "     BBI                [251, 287]              [36]\n",
      "     JVL                [265, 319]              [54]\n",
      "     VLN                [266, 320]              [54]\n",
      "     LNH                [267, 321]              [54]\n",
      "     NHI                [268, 322]              [54]\n",
      "\n",
      "Key length estimates based on IoC:\n",
      " Key Length  Average IoC\n",
      "          6     0.062824\n",
      "         12     0.060406\n",
      "          3     0.050769\n",
      "          9     0.049111\n",
      "          2     0.042791\n",
      "         11     0.042384\n",
      "          4     0.041657\n",
      "          7     0.041227\n",
      "          8     0.041029\n",
      "          1     0.040872\n",
      "          5     0.039282\n",
      "         10     0.037712\n"
     ]
    }
   ],
   "source": [
    "import string\n",
    "from collections import Counter\n",
    "import pandas as pd\n",
    "from collections import defaultdict\n",
    "\n",
    "def clean_text(text):\n",
    "    \"\"\"Converts text to uppercase and removes non-A-Z characters.\"\"\"\n",
    "    return ''.join(ch for ch in text.upper() if 'A' <= ch <= 'Z')\n",
    "\n",
    "def char_to_num(c):\n",
    "    \"\"\"Converts a character (A-Z) to a number (0-25).\"\"\"\n",
    "    return ord(c) - ord('A')\n",
    "\n",
    "def num_to_char(n):\n",
    "    \"\"\"Converts a number (0-25) to a character (A-Z).\"\"\"\n",
    "    return chr(n + ord('A'))\n",
    "\n",
    "def index_of_coincidence(text):\n",
    "    \"\"\"Calculates the Index of Coincidence (IoC).\"\"\"\n",
    "    if len(text) < 2:\n",
    "        return 0.0\n",
    "    freqs = Counter(text)\n",
    "    N = len(text)\n",
    "    return sum(count * (count - 1) for count in freqs.values()) / (N * (N - 1))\n",
    "\n",
    "def average_ioc_for_key_length(ciphertext, key_length):\n",
    "    \"\"\"Splits text into key_length columns and computes the average IoC.\"\"\"\n",
    "    columns = [''] * key_length\n",
    "    for i, char in enumerate(ciphertext):\n",
    "        columns[i % key_length] += char\n",
    "    return sum(index_of_coincidence(col) for col in columns) / key_length\n",
    "\n",
    "def estimate_key_length_by_ioc(ciphertext, min_len=1, max_len=12):\n",
    "    \"\"\"Estimates key length based on IoC.\"\"\"\n",
    "    return sorted(((length, average_ioc_for_key_length(ciphertext, length)) \n",
    "                   for length in range(min_len, max_len + 1)), key=lambda x: x[1], reverse=True)\n",
    "\n",
    "def find_repeated_sequences(ciphertext, min_length=3):\n",
    "    \"\"\"Finds repeated sequences of characters in the ciphertext.\"\"\"\n",
    "    sequences = defaultdict(list)\n",
    "    for i in range(len(ciphertext) - min_length + 1):\n",
    "        seq = ciphertext[i:i + min_length]\n",
    "        sequences[seq].append(i + 1)\n",
    "    return {seq: indices for seq, indices in sequences.items() if len(indices) > 1}\n",
    "\n",
    "def find_distances(repeated_sequences):\n",
    "    \"\"\"Finds the distances between occurrences of repeated sequences.\"\"\"\n",
    "    return {seq: [indices[i + 1] - indices[i] for i in range(len(indices) - 1)] \n",
    "            for seq, indices in repeated_sequences.items()}\n",
    "\n",
    "# Ciphertext processing\n",
    "ciphertext_raw = \"\"\"KCCPKBGUFDPHQTYAVINRRTMVGRKDNBVFDETDGILTXRGUD\n",
    "DKOTFMBPVGEGLTGCKQRACQCWDNAWCRXIZAKFTLEWRPTYC\n",
    "QKYVXCHKFTPONCQQRHJVAJUWETMCMSPKQDYHJVDAHCTRL\n",
    "SVSKCGCZQQDZXGSFRLSWCWSJTBHAFSIASPRJAHKJRJUMV\n",
    "GKMITZHFPDISPZLVLGWTFPLKKEBDPGCEBSHCTJRWXBAFS\n",
    "PEZQNRWXCVYCGAONWDDKACKAWBBIKFTIOVKCGGHJVLNHI\n",
    "FFSQESVYCLACNVRWBBIREPBBVFEXOSCDYGZWPFDTKFQIY\n",
    "CWHJVLNHIQIBTKHJVNPIST\"\"\".replace(\"\\n\", \"\")\n",
    "\n",
    "ciphertext = clean_text(ciphertext_raw)\n",
    "\n",
    "# Find repeated sequences\n",
    "repeated_sequences = find_repeated_sequences(ciphertext)\n",
    "distances = find_distances(repeated_sequences)\n",
    "df_sequences = pd.DataFrame([(seq, indices, distances[seq]) \n",
    "                             for seq, indices in repeated_sequences.items()],\n",
    "                            columns=['Sequence', 'Positions', 'Intervals'])\n",
    "\n",
    "# Estimate key length using IoC\n",
    "ioc_results = estimate_key_length_by_ioc(ciphertext)\n",
    "df_ioc = pd.DataFrame(ioc_results, columns=['Key Length', 'Average IoC'])\n",
    "\n",
    "# Display results\n",
    "print(\"Repeated sequences and their distances:\")\n",
    "print(df_sequences.to_string(index=False))\n",
    "\n",
    "print(\"\\nKey length estimates based on IoC:\")\n",
    "print(df_ioc.to_string(index=False))\n"
   ]
  },
  {
   "cell_type": "markdown",
   "metadata": {},
   "source": [
    "First, we applied the Kasiski Test, and we found that the trigram HJV occurs five times at positions 108, 126, 264, 318, and 330. We also noticed that the intervals are 18, 138, 54, and 12, which are divisible by 2, 3, and 6. So we assumed that the keyword length is either 2, 3 or 6. Based on this supposition, we computed the Index of Coincidence, which specified that the most likely key length was indeed 6."
   ]
  },
  {
   "cell_type": "code",
   "execution_count": 20,
   "metadata": {},
   "outputs": [
    {
     "name": "stdout",
     "output_type": "stream",
     "text": [
      "Likely key length: 6\n",
      "Estimated key: CRYPTO\n",
      "\n",
      "Decrypted text:\n",
      "ILEARNEDHOWTOCALCULATETHEAMOUNTOFPAPERNEEDEDFORAROOMWHENIWASATSCHOOLYOUMULTIPLYTHESQUAREFOOTAGEOFTHEWALLSBYTHECUBICCONTENTSOFTHEFLOORANDCEILINGCOMBINEDANDDOUBLEITYOUTHENALLOWHALFTHETOTALFOROPENINGSSUCHASWINDOWSANDDOORSTHENYOUALLOWTHEOTHERHALFFORMATCHINGTHEPATTERNTHENYOUDOUBLETHEWHOLETHINGAGAINTOGIVEAMARGINOFERRORANDTHENYOUORDERTHEPAPER\n"
     ]
    }
   ],
   "source": [
    "def shifter_decrypt(char, shift):\n",
    "    \"\"\"Decrypts a character by applying an inverse Caesar shift.\"\"\"\n",
    "    return num_to_char((char_to_num(char) - shift) % 26)\n",
    "\n",
    "def find_best_shift_for_column(col, language='EN'):\n",
    "    \"\"\"Finds the best shift using chi-squared frequency analysis.\"\"\"\n",
    "    freq_en = {'A': 0.08167, 'B': 0.01492, 'C': 0.02782, 'D': 0.04253, 'E': 0.12702,\n",
    "               'F': 0.02228, 'G': 0.02015, 'H': 0.06094, 'I': 0.06966, 'J': 0.00153,\n",
    "               'K': 0.00772, 'L': 0.04025, 'M': 0.02406, 'N': 0.06749, 'O': 0.07507,\n",
    "               'P': 0.01929, 'Q': 0.00095, 'R': 0.05987, 'S': 0.06327, 'T': 0.09056,\n",
    "               'U': 0.02758, 'V': 0.00978, 'W': 0.02360, 'X': 0.00150, 'Y': 0.01974,\n",
    "               'Z': 0.00074}\n",
    "    \n",
    "    def chi_squared(decrypted_col):\n",
    "        dec_counts = Counter(decrypted_col)\n",
    "        return sum(((dec_counts[letter] - freq_en[letter] * len(col)) ** 2) /\n",
    "                   (freq_en[letter] * len(col) + 1e-9) for letter in string.ascii_uppercase)\n",
    "    \n",
    "    return min(range(26), key=lambda shift: chi_squared(''.join(shifter_decrypt(ch, shift) for ch in col)))\n",
    "\n",
    "def guess_key_by_frequency(ciphertext, key_length):\n",
    "    \"\"\"Finds the key for Vigenère cipher using frequency analysis.\"\"\"\n",
    "    columns = [''] * key_length\n",
    "    for i, char in enumerate(ciphertext):\n",
    "        columns[i % key_length] += char\n",
    "    return ''.join(num_to_char(find_best_shift_for_column(col)) for col in columns)\n",
    "\n",
    "def vigenere_decrypt(ciphertext, key):\n",
    "    \"\"\"Decrypts a Vigenère cipher text using the given key.\"\"\"\n",
    "    key_length = len(key)\n",
    "    return ''.join(num_to_char((char_to_num(c) - char_to_num(key[i % key_length])) % 26) \n",
    "                   for i, c in enumerate(ciphertext))\n",
    "\n",
    "# Extract probable key length\n",
    "probable_length = ioc_results[0][0]\n",
    "guessed_key = guess_key_by_frequency(ciphertext, probable_length)\n",
    "\n",
    "# Display results\n",
    "print(f\"Likely key length: {probable_length}\")\n",
    "print(f\"Estimated key: {guessed_key}\")\n",
    "print(\"\\nDecrypted text:\")\n",
    "print(vigenere_decrypt(ciphertext, guessed_key))\n"
   ]
  },
  {
   "cell_type": "markdown",
   "metadata": {},
   "source": [
    "As mentioned above, we used the Mg method, with the following formula: \n",
    "$$\n",
    "M_g = \\sum_{i=0}^{25} \\frac{p_i f_{i+g}}{n'}\n",
    "$$\n",
    " and we found relative shifts. Specifically, we noticed that the the keyword is the result of some shift applied to APWNRM. After analyzing each of them, we concluded that the only one that made sense was CRYPTO (or A |-> C). Finally, once we found the keyword, we inverse produced it to the plaintext. "
   ]
  },
  {
   "cell_type": "markdown",
   "metadata": {},
   "source": [
    "**Decrypted text**"
   ]
  },
  {
   "cell_type": "markdown",
   "metadata": {},
   "source": [
    "I learned how to calculate the amount of paper needed for a room when I was at school. You multiply the square footage of the walls by the cubic contents of the floor and ceiling combined and double it. You then allow half the total for openings such as windows and doors. Then you allow the other half for matching the pattern. Then you double the whole thing again to give a margin of error, and then you order the paper."
   ]
  },
  {
   "cell_type": "markdown",
   "metadata": {},
   "source": [
    "## - **Affine Cipher:**"
   ]
  },
  {
   "cell_type": "markdown",
   "metadata": {},
   "source": [
    "KQEREJEBCPPCJCRKIEACUZBKRVPKRBCIBQCARBJCVFCUP\n",
    "KRIOFKPACUZQEPBKRXPEIIEABDKPBCPFCDCCAFIEABDKP\n",
    "BCPFEQPKAZBKRHAIBKAPCCIBURCCDKDCCJCIDFUIXPAFF\n",
    "ERBICZDFKABICBBENEFCUPJCVKABPCYDCCDPKBCOCPERK\n",
    "IVKSCPICBRKIJPKABI"
   ]
  },
  {
   "cell_type": "markdown",
   "metadata": {},
   "source": [
    "**Solution** "
   ]
  },
  {
   "cell_type": "code",
   "execution_count": 15,
   "metadata": {},
   "outputs": [
    {
     "name": "stdout",
     "output_type": "stream",
     "text": [
      "   Letter  Frequency  Rank\n",
      "0       C         32     1\n",
      "1       B         21     2\n",
      "2       K         20     3\n",
      "3       P         20     3\n",
      "4       I         16     5\n",
      "5       E         13     6\n",
      "6       A         13     6\n",
      "7       R         12     8\n",
      "8       F         10     9\n",
      "9       D          9    10\n",
      "10      J          6    11\n",
      "11      U          6    11\n",
      "12      Q          4    13\n",
      "13      Z          4    13\n",
      "14      V          4    13\n",
      "15      O          2    16\n",
      "16      X          2    16\n",
      "17      H          1    18\n",
      "18      N          1    18\n",
      "19      Y          1    18\n",
      "20      S          1    18\n"
     ]
    }
   ],
   "source": [
    "from collections import Counter\n",
    "import pandas as pd\n",
    "\n",
    "def analyze_ciphertext(ciphertext):\n",
    "    # Eliminar espacios y saltos de línea\n",
    "    cleaned_text = ciphertext.replace(\"\\n\", \"\").replace(\" \", \"\")\n",
    "    \n",
    "    # Contar frecuencia de cada letra\n",
    "from collections import Counter\n",
    "import pandas as pd\n",
    "\n",
    "def analyze_ciphertext(ciphertext):\n",
    "    # Eliminar espacios y saltos de línea\n",
    "    cleaned_text = ciphertext.replace(\"\\n\", \"\").replace(\" \", \"\")\n",
    "    \n",
    "    # Contar frecuencia de cada letra\n",
    "    frequency = Counter(cleaned_text)\n",
    "    \n",
    "    # Ordenar por frecuencia en orden descendente\n",
    "    sorted_freq = sorted(frequency.items(), key=lambda x: x[1], reverse=True)\n",
    "    \n",
    "    # Asignar rank basado en frecuencia\n",
    "    rank = {letter: rank+1 for rank, (letter, _) in enumerate(sorted_freq)}\n",
    "    \n",
    "    # Crear DataFrame para visualización\n",
    "    df = pd.DataFrame(sorted_freq, columns=['Letter', 'Frequency'])\n",
    "    df['Rank'] = df['Frequency'].rank(method='min', ascending=False).astype(int)\n",
    "    \n",
    "    return df\n",
    "\n",
    "# Texto cifrado\n",
    "ciphertext = \"\"\"KQEREJEBCPPCJCRKIEACUZBKRVPKRBCIBQCARBJCVFCUP\n",
    "KRIOFKPACUZQEPBKRXPEIIEABDKPBCPFCDCCAFIEABDKP\n",
    "BCPFEQPKAZBKRHAIBKAPCCIBURCCDKDCCJCIDFUIXPAFF\n",
    "ERBICZDFKABICBBENEFCUPJCVKABPCYDCCDPKBCOCPERK\n",
    "IVKSCPICBRKIJPKABI\"\"\"\n",
    "\n",
    "# Análisis de frecuencia\n",
    "df_result = analyze_ciphertext(ciphertext)\n",
    "\n",
    "# Mostrar resultado\n",
    "print(df_result)"
   ]
  },
  {
   "cell_type": "markdown",
   "metadata": {},
   "source": [
    "We first analyze the frequency of letters in the ciphertext. By comparing these frequencies with English letter frequencies, we can attempt to deduce common letters like E, T, and A.\n",
    "We can assume: \n",
    "- C → E\n",
    "- B → T"
   ]
  },
  {
   "cell_type": "markdown",
   "metadata": {},
   "source": [
    "We select two common letters in the ciphertext and assume their corresponding plaintext values.\n",
    "\n",
    "Solve for 𝑎 and 𝑏 using the equation:\n",
    "\n",
    "$$\n",
    "E(x_1) = (a x_1 + b) \\mod 26\n",
    "$$\n",
    "\n",
    "$$\n",
    "E(x_2) = (a x_2 + b) \\mod 26\n",
    "$$\n",
    "\n",
    "- E position on the alphabet is 4 = $ x_1 $ \n",
    "- T position on the alphabet is 19 = $ x_2 $\n",
    "- First we find a and b and then compute:\n",
    "\n",
    "$$\n",
    "D(y) = a^{-1} (y - b) \\mod 26\n",
    "$$"
   ]
  },
  {
   "cell_type": "markdown",
   "metadata": {},
   "source": [
    "Se utiliza:\n",
    "\n",
    "- Affine Cipher Equations\n",
    "\n",
    "**Encryption:**\n",
    "$$\n",
    "e_k(x) = a x + b\n",
    "$$\n",
    "\n",
    "**Decryption:**\n",
    "$$\n",
    "d_k(y) = a^{-1} (y - b)\n",
    "$$\n"
   ]
  },
  {
   "cell_type": "code",
   "execution_count": 20,
   "metadata": {},
   "outputs": [
    {
     "name": "stdout",
     "output_type": "stream",
     "text": [
      "Decrypted text:\n",
      "OCANADATERREDENOSAIEUXTONFRONTESTCEINTDEFLEURONSGLORIEUXCARTONBRASSAITPORTERLEPEEILSAITPORTERLACROIXTONHISTOIREESTUNEEPOPEEDESPLUSBRILLANTSEXPLOITSETTAVALEURDEFOITREMPEEPROTEGERANOSFOYERSETNOSDROITS\n"
     ]
    }
   ],
   "source": [
    "from collections import Counter\n",
    "import pandas as pd\n",
    "import math\n",
    "\n",
    "def mod_inverse(a, m):\n",
    "    # Find the modular inverse of 'a' mod 'm'\n",
    "    for x in range(1, m):\n",
    "        if (a * x) % m == 1:\n",
    "            return x\n",
    "    return None  # Return None if no modular inverse exists\n",
    "\n",
    "def affine_decrypt(ciphertext, a, b):\n",
    "    # Remove spaces and line breaks from the ciphertext\n",
    "    cleaned_text = ciphertext.replace(\"\\n\", \"\").replace(\" \", \"\")\n",
    "    \n",
    "    # Find the modular inverse of 'a' mod 26\n",
    "    a_inv = mod_inverse(a, 26)\n",
    "    if a_inv is None:\n",
    "        raise ValueError(\"No modular inverse for the given 'a'. Choose a different value.\")\n",
    "    \n",
    "    # Decryption function\n",
    "    decrypted_text = \"\"\n",
    "    for char in cleaned_text:\n",
    "        if char.isalpha():\n",
    "            y = ord(char) - ord('A')  # Convert letter to number (A=0, B=1, ..., Z=25)\n",
    "            x = (a_inv * (y - b)) % 26  # Apply decryption formula\n",
    "            decrypted_text += chr(x + ord('A'))  # Convert number back to letter\n",
    "        else:\n",
    "            decrypted_text += char  # Keep non-alphabetic characters unchanged\n",
    "    \n",
    "    return decrypted_text\n",
    "\n",
    "# Encrypted text (ciphertext)\n",
    "ciphertext = \"\"\"KQEREJEBCPPCJCRKIEACUZBKRVPKRBCIBQCARBJCVFCUP\n",
    "KRIOFKPACUZQEPBKRXPEIIEABDKPBCPFCDCCAFIEABDKP\n",
    "BCPFEQPKAZBKRHAIBKAPCCIBURCCDKDCCJCIDFUIXPAFF\n",
    "ERBICZDFKABICBBENEFCUPJCVKABPCYDCCDPKBCOCPERK\n",
    "IVKSCPICBRKIJPKABI\"\"\"\n",
    "\n",
    "# Affine Cipher parameters\n",
    "a = 19\n",
    "b = 4\n",
    "\n",
    "# Decrypt the text\n",
    "decrypted_text = affine_decrypt(ciphertext, a, b)\n",
    "\n",
    "# Display result\n",
    "print(\"Decrypted text:\")\n",
    "print(decrypted_text)"
   ]
  },
  {
   "cell_type": "markdown",
   "metadata": {},
   "source": [
    "**Decrypted text**"
   ]
  },
  {
   "cell_type": "markdown",
   "metadata": {},
   "source": [
    "O CANADA TERRE DE NOS AIEUX TON FRONT EST CEINT DE FLEURONS GLORIEUX CAR TON BRAS SAIT PORTER L EPEE IL SAIT PORTER LA CROIX TON HISTOIRE EST UNE EPOPEE DES PLUS BRILLANTS EXPLOITS ET TA VALEUR DE FOI TREMPEE PROTEGERA NOS FOYERS ET NOS DROITS\n"
   ]
  },
  {
   "cell_type": "markdown",
   "metadata": {},
   "source": [
    "## - **Other cipher:**"
   ]
  },
  {
   "cell_type": "markdown",
   "metadata": {},
   "source": [
    "**Solution** "
   ]
  },
  {
   "cell_type": "markdown",
   "metadata": {},
   "source": [
    "As we were only given the ciphertext, we had to work with it in order to infer the cipher algorithm we were dealing with. "
   ]
  },
  {
   "cell_type": "code",
   "execution_count": 1,
   "metadata": {},
   "outputs": [],
   "source": [
    "import string\n",
    "from collections import Counter\n",
    "\n",
    "# --------------------------------------------------\n",
    "# 1. Cleanup and utilities\n",
    "# --------------------------------------------------\n",
    "\n",
    "def clean_text(text):\n",
    "    \"\"\"\n",
    "    Converts the text to uppercase and removes anything \n",
    "    that is not an A-Z letter.\n",
    "    \"\"\"\n",
    "    text = text.upper()\n",
    "    cleaned = []\n",
    "    for ch in text:\n",
    "        if 'A' <= ch <= 'Z':\n",
    "            cleaned.append(ch)\n",
    "    return \"\".join(cleaned)\n",
    "\n",
    "def char_to_num(c):\n",
    "    \"\"\"\n",
    "    Converts a character (A-Z) to a number (0-25).\n",
    "    \"\"\"\n",
    "    return ord(c) - ord('A')\n",
    "\n",
    "def num_to_char(n):\n",
    "    \"\"\"\n",
    "    Converts a number (0-25) to a character (A-Z).\n",
    "    \"\"\"\n",
    "    return chr(n + ord('A'))"
   ]
  },
  {
   "cell_type": "markdown",
   "metadata": {},
   "source": [
    "So, we started analyzing the **Index of Coincidence**, a statistical measure that estimates how likely it is for two randomly chosen letters from a text to be identical.\n",
    "\n",
    "In natural language texts (like English), certain letters (such as E, T, A) appear more frequently than others. This produces an IoC typically around 0.065 to 0.07.\n",
    "\n",
    "For a monoalphabetic substitution cipher, the IoC tends to be close to that of the original language (around 0.065 for English). For completely random text, the IoC is much lower (approximately 0.038).\n",
    "\n",
    "We needed to find the IoC for the given ciphertext, so we could conclude if we were dealing with a monoalphabetic (substitution) or polyalphabetic cipher like Vigenère."
   ]
  },
  {
   "cell_type": "code",
   "execution_count": 2,
   "metadata": {},
   "outputs": [],
   "source": [
    "# --------------------------------------------------\n",
    "# 2. Calculation of the Index of Coincidence (IoC)\n",
    "# --------------------------------------------------\n",
    "\n",
    "def index_of_coincidence(text):\n",
    "    \"\"\"\n",
    "    Calculates the Index of Coincidence (IoC) for a text\n",
    "    in uppercase (A-Z).\n",
    "    \n",
    "    Formula: IoC = sum( f_i * (f_i - 1) ) / [ N * (N - 1) ]\n",
    "    where f_i is the frequency of each letter,\n",
    "    and N is the total length of the text.\n",
    "    \"\"\"\n",
    "    if len(text) < 2:\n",
    "        return 0.0\n",
    "    \n",
    "    freqs = Counter(text)\n",
    "    N = len(text)\n",
    "    numerator = 0\n",
    "    for letter, count in freqs.items():\n",
    "        numerator += count * (count - 1)\n",
    "    denominator = N * (N - 1)\n",
    "    return numerator / denominator"
   ]
  },
  {
   "cell_type": "markdown",
   "metadata": {},
   "source": [
    "When we executed this function, we found that the ciphertext was encoded with a polyalphabetic.\n",
    "\n",
    "As the next step, we defined a function that calculated an estimated key length, sp we could split the ciphertext into that many columns, each resembling a simple Caesar cipher of natural language."
   ]
  },
  {
   "cell_type": "code",
   "execution_count": 3,
   "metadata": {},
   "outputs": [],
   "source": [
    "def average_ioc_for_key_length(ciphertext, key_length):\n",
    "    \"\"\"\n",
    "    Splits the text into 'key_length' columns and computes\n",
    "    the average IoC of those columns.\n",
    "    \"\"\"\n",
    "    columns = [''] * key_length\n",
    "    \n",
    "    # Distribute the text into columns\n",
    "    for i, char in enumerate(ciphertext):\n",
    "        columns[i % key_length] += char\n",
    "    \n",
    "    # Calculate the IoC of each column and compute the average\n",
    "    ioc_sum = 0\n",
    "    for col in columns:\n",
    "        ioc_sum += index_of_coincidence(col)\n",
    "    return ioc_sum / key_length\n",
    "\n",
    "def estimate_key_length_by_ioc(ciphertext, min_len=1, max_len=12):\n",
    "    \"\"\"\n",
    "    Tries key lengths from min_len to max_len,\n",
    "    calculates the average IoC, and returns a list\n",
    "    sorted by IoC (descending).\n",
    "    \"\"\"\n",
    "    results = []\n",
    "    for length in range(min_len, max_len+1):\n",
    "        avg_ioc = average_ioc_for_key_length(ciphertext, length)\n",
    "        results.append((length, avg_ioc))\n",
    "    \n",
    "    # Sort by descending IoC\n",
    "    results.sort(key=lambda x: x[1], reverse=True)\n",
    "    return results"
   ]
  },
  {
   "cell_type": "markdown",
   "metadata": {},
   "source": [
    "We also defined a function to decrypt each column."
   ]
  },
  {
   "cell_type": "code",
   "execution_count": 4,
   "metadata": {},
   "outputs": [],
   "source": [
    "def caesar_decrypt(char, shift):\n",
    "    \"\"\"\n",
    "    Decrypts a character (A-Z) by applying an inverse\n",
    "    Caesar shift of 'shift'.\n",
    "    \"\"\"\n",
    "    return num_to_char((char_to_num(char) - shift) % 26)"
   ]
  },
  {
   "cell_type": "markdown",
   "metadata": {},
   "source": [
    "By testing all 26 possible shifts on a column and calculating the chi-squared value for each candidate decryption, the shift that minimizes the chi-squared statistic is likely the correct one. The chi-squared test has been a standard tool in cryptanalysis, particularly for breaking classical ciphers like Caesar or Vigenère.\n",
    "\n",
    "This is because a lower chi-squared value indicates that the observed frequencies closely match the natural language distribution."
   ]
  },
  {
   "cell_type": "code",
   "execution_count": 5,
   "metadata": {},
   "outputs": [],
   "source": [
    "def find_best_shift_for_column(col, language='EN'):\n",
    "    \"\"\"\n",
    "    Finds the Caesar shift that makes the column 'col'\n",
    "    closest to the typical frequency distribution \n",
    "    (English or Spanish).\n",
    "    \"\"\"\n",
    "    # Approximate frequencies for English (you can adjust if you want Spanish)\n",
    "    freq_en = {\n",
    "        'A': 0.08167, 'B': 0.01492, 'C': 0.02782, 'D': 0.04253, 'E': 0.12702,\n",
    "        'F': 0.02228, 'G': 0.02015, 'H': 0.06094, 'I': 0.06966, 'J': 0.00153,\n",
    "        'K': 0.00772, 'L': 0.04025, 'M': 0.02406, 'N': 0.06749, 'O': 0.07507,\n",
    "        'P': 0.01929, 'Q': 0.00095, 'R': 0.05987, 'S': 0.06327, 'T': 0.09056,\n",
    "        'U': 0.02758, 'V': 0.00978, 'W': 0.02360, 'X': 0.00150, 'Y': 0.01974,\n",
    "        'Z': 0.00074\n",
    "    }\n",
    "    \n",
    "    # Count the actual frequency of the column\n",
    "    counts = Counter(col)\n",
    "    length = len(col)\n",
    "    \n",
    "    def chi_squared(decrypted_col):\n",
    "        # Computes the chi-squared against the 'freq_en' distribution\n",
    "        c2 = 0.0\n",
    "        dec_counts = Counter(decrypted_col)\n",
    "        for letter in string.ascii_uppercase:\n",
    "            observed = dec_counts[letter]\n",
    "            expected = freq_en[letter] * len(decrypted_col)\n",
    "            c2 += (observed - expected)**2 / (expected + 1e-9)\n",
    "        return c2\n",
    "    \n",
    "    best_shift = 0\n",
    "    min_chi = float('inf')\n",
    "    for shift in range(26):\n",
    "        # Decrypt the column with this shift\n",
    "        decrypted_col = ''.join(caesar_decrypt(ch, shift) for ch in col)\n",
    "        c2 = chi_squared(decrypted_col)\n",
    "        if c2 < min_chi:\n",
    "            min_chi = c2\n",
    "            best_shift = shift\n",
    "    \n",
    "    return best_shift"
   ]
  },
  {
   "cell_type": "markdown",
   "metadata": {},
   "source": [
    "For each column, all possible shifts are evaluated using the chi-squared test, the one that produces the letter frequency distribution most similar to natural language is selected.\n",
    "\n",
    "The selected shifts for each column are converted into letters. This sequence of letters forms the candidate key."
   ]
  },
  {
   "cell_type": "code",
   "execution_count": 6,
   "metadata": {},
   "outputs": [],
   "source": [
    "def guess_key_by_frequency(ciphertext, key_length, language='EN'):\n",
    "    \"\"\"\n",
    "    Splits the ciphertext into 'key_length' columns and finds \n",
    "    the best shift (shift) for each column.\n",
    "    Returns the key as a string of letters (A-Z).\n",
    "    \"\"\"\n",
    "    columns = [''] * key_length\n",
    "    for i, char in enumerate(ciphertext):\n",
    "        columns[i % key_length] += char\n",
    "    \n",
    "    # For each column, we compute the \"optimal\" shift\n",
    "    key_shifts = []\n",
    "    for col in columns:\n",
    "        shift = find_best_shift_for_column(col, language=language)\n",
    "        key_shifts.append(shift)\n",
    "    \n",
    "    # Convert the shifts to letters of the key\n",
    "    # Remember that in Vigenère, shift=0 -> 'A', shift=1 -> 'B', etc.\n",
    "    key = ''.join(num_to_char(s) for s in key_shifts)\n",
    "    return key"
   ]
  },
  {
   "cell_type": "markdown",
   "metadata": {},
   "source": [
    "Once the key is guessed, it is applied to the entire ciphertext using the Vigenère decryption method. If the output is readable and makes sense, the key is likely correct."
   ]
  },
  {
   "cell_type": "code",
   "execution_count": 8,
   "metadata": {},
   "outputs": [],
   "source": [
    "def vigenere_decrypt(ciphertext, key):\n",
    "    \"\"\"\n",
    "    Decrypts a 'ciphertext' (A-Z) with the 'key' (A-Z)\n",
    "    using the classic Vigenère cipher.\n",
    "    \"\"\"\n",
    "    plaintext = []\n",
    "    key_index = 0\n",
    "    key_length = len(key)\n",
    "    \n",
    "    for c in ciphertext:\n",
    "        shift = char_to_num(key[key_index])\n",
    "        # Inverse shift\n",
    "        p = (char_to_num(c) - shift) % 26\n",
    "        plaintext.append(num_to_char(p))\n",
    "        key_index = (key_index + 1) % key_length\n",
    "    \n",
    "    return \"\".join(plaintext)"
   ]
  },
  {
   "cell_type": "markdown",
   "metadata": {},
   "source": [
    "Lastly, we tried to break the ciphertext with the explained method."
   ]
  },
  {
   "cell_type": "code",
   "execution_count": 9,
   "metadata": {},
   "outputs": [
    {
     "name": "stdout",
     "output_type": "stream",
     "text": [
      "Possible key lengths (sorted by IoC):\n",
      "  Length = 12, Average IoC = 0.0648\n",
      "  Length = 6, Average IoC = 0.0606\n",
      "  Length = 8, Average IoC = 0.0513\n",
      "  Length = 4, Average IoC = 0.0486\n",
      "  Length = 3, Average IoC = 0.0468\n",
      "  Length = 10, Average IoC = 0.0463\n",
      "  Length = 2, Average IoC = 0.0453\n",
      "  Length = 9, Average IoC = 0.0445\n",
      "  Length = 11, Average IoC = 0.0424\n",
      "  Length = 7, Average IoC = 0.0418\n",
      "  Length = 5, Average IoC = 0.0415\n",
      "  Length = 1, Average IoC = 0.0414\n",
      "\n",
      "Based on IoC, a likely key length is: 12\n",
      "Estimated key (frequencies): THEORYTHEORY\n",
      "\n",
      "Tentative plaintext:\n",
      "IGREWUPAMONGSLOWTALKERSMENINPARTICULARWHODROPPEDWORDSAFEWATATIMELIKEBEANSINAHILLANDWHENIGOTTOMINNEAPOLISWHEREPEOPLETOOKALAKEWOBEGONCOMMATOMEANTHEENDOFASTORYICOULDNTSPEAKAWHOLESENTENCEINCOMPANYANDWASCONSIDEREDNOTTOOBRIGHTSOIENROLLEDINASPEECHCOURSETAUGHTBYORVILLESANDTHEFOUNDEROFREFLEXIVERELAXOLOGYASELFHYPNOTICTECHNIQUETHATENABLEDAPERSONTOSPEAKUPTOTHREEHUNDREDWORDSPERMINUTE\n"
     ]
    }
   ],
   "source": [
    "if __name__ == \"__main__\":\n",
    "    ciphertext_raw = \"\"\"\n",
    "    BNVSNSIHQCEELSSKKYERIFJKXUMBGYKAMQLJTYAVFBKVT\n",
    "DVBPVVRJYYLAOKYMPQSCGDLFSRLLPROYGESEBUUALRWXM\n",
    "MASAZLGLEDFJBZAVVPXWICGJXASCBYEHOSNMULKCEAHTQ\n",
    "OKMFLEBKFXLRRFDTZXCIWBJSICBGAWDVYDHAVFJXZIBKC\n",
    "GJIWEAHTTOEWTUHKRQVVRGZBXYIREMMASCSPBNLHJMBLR\n",
    "FFJELHWEYLWISTFVVYFJCMHYUYRUFSFMGESIGRLWALSWM\n",
    "NUHSIMYYITCCQPZSICEHBCCMZFEGVJYOCDEMMPGHVAAUM\n",
    "ELCMOEHVLTIPSUYILVGFLMVWDVYDBTHFRAYISYSGKVSUU\n",
    "HYHGGCKTMBLRX\n",
    "    \"\"\".strip()\n",
    "    \n",
    "    # 1) Clean the text\n",
    "    ciphertext = clean_text(ciphertext_raw)\n",
    "    \n",
    "    # 2) Estimate key lengths with IoC\n",
    "    ioc_results = estimate_key_length_by_ioc(ciphertext, min_len=1, max_len=12)\n",
    "    print(\"Possible key lengths (sorted by IoC):\")\n",
    "    for length, ioc_val in ioc_results:\n",
    "        print(f\"  Length = {length}, Average IoC = {ioc_val:.4f}\")\n",
    "    \n",
    "    # Assuming we pick the key length with the highest IoC (e.g., 6)\n",
    "    probable_length = ioc_results[0][0]\n",
    "    print(f\"\\nBased on IoC, a likely key length is: {probable_length}\")\n",
    "    \n",
    "    # 3) Try to guess the key via frequency analysis\n",
    "    guessed_key = guess_key_by_frequency(ciphertext, probable_length, language='EN')\n",
    "    print(f\"Estimated key (frequencies): {guessed_key}\")\n",
    "    \n",
    "    # 4) Decrypt with that key\n",
    "    trial_plaintext = vigenere_decrypt(ciphertext, guessed_key)\n",
    "    print(\"\\nTentative plaintext:\")\n",
    "    print(trial_plaintext)"
   ]
  },
  {
   "cell_type": "markdown",
   "metadata": {},
   "source": [
    "I grew up among slow talkers. Men in particular who dropped words a few at a time like beans in a hill. And when I got to Minneapolis, where people took a Lake Wobegon comma to mean the end of a story, I couldn't speak a whole sentence in company and was considered not too bright. So I enrolled in a speech course taught by Orville Sand, the founder of reflexive relaxology, a self hypnotic technique that enabled a person to speak up to three hundred words per minute."
   ]
  },
  {
   "cell_type": "markdown",
   "metadata": {},
   "source": [
    "## **4. Prove that the Affine Cipher achieves perfect secrecy if every key is used with equal probability 1/312.**"
   ]
  },
  {
   "cell_type": "markdown",
   "metadata": {},
   "source": [
    "For each pair of plaintext-ciphertext letters $(x,y)$, there are 12 keys that encrypt $x$ to $y$:\n",
    "\n",
    "For each choice of $a$, the key $(a,y−ax)$ encrypts the plaintext letter $x$ to the ciphertext letter $y$, since $ax+ (y−ax) = y$. We know that there are 12 possible chocies for $a$ since $a$ must be chosen such that $gcd(a,26)=1$, and there are only twelve numbers that satisfy this condition ${1,3,5,7,9,11,15,17,19,21,23,25}$. So, there are exactly twelve keys that map a given plaintext letter to a given ciphertext letter. \n",
    "\n",
    "Thus:\n",
    "$$\n",
    "p_c(y) = \\sum_{k \\in K} p_K(k) p_P(d_k(y)) = \\frac{12}{312} p_P(a) + \\frac{12}{312} p_P(b) + \\cdots + \\frac{12}{312} p_P(z) = \\frac{12}{312} \\times 1 = \\frac{1}{26}.\n",
    "$$\n",
    "\n",
    "Taking into account that:\n",
    "$$\n",
    "p_C(y | x) = \\sum_{k : x = d_k(y)} p_K k = \\frac{12}{312} = \\frac{1}{26},\n",
    "$$ \n",
    "\n",
    "each key occurs with a probability of $ \\frac{1}{312} $ and there are twelve keys that decrypt $ x $ to $ y $, which means that there are twelve keys for which $ x = d_k(y) $.\n",
    "\n",
    "Hence\n",
    "$$\n",
    "p_P(x | y) = \\frac{p_P(x) p_C(y | x)}{p_C(y)} = \\frac{p_P(x) \\frac{1}{26}}{\\frac{1}{26}} = p_P(x)\n",
    "$$\n",
    "\n",
    "which proves that this cryptosystem has perfect secrecy.\n",
    "\n",
    "\n",
    "\n"
   ]
  },
  {
   "cell_type": "markdown",
   "metadata": {},
   "source": [
    "## **5. Prove that if a cryptosystem has perfect secrecy and |K|= |C|= |P|, then every ciphertext is equally probable.**"
   ]
  },
  {
   "cell_type": "markdown",
   "metadata": {},
   "source": [
    "Given that the cryptosystm has perfect secrecy, then it means that:\n",
    "\n",
    "$$\n",
    "\\forall p \\in P, c \\in C, Pr_{P,C}(p / c) = Pr_P(p)\n",
    "$$\n",
    "\n",
    "So, using the Bayes Theorem we can deduce that :\n",
    "\n",
    "$$\n",
    "\\forall c \\in C, Pr(c) = \\frac{Pr(p) \\cdot Pr(c / p)}{Pr(p / c)} = \\frac{Pr(p) \\cdot Pr(c / p)}{Pr(p)} = Pr(c / p)\n",
    "$$\n",
    "\n",
    "As $\\ |P| = |C| = |K| \\ $, we know that there is only one key among $n$ that encrypts $p$ to $c$. So\n",
    "\n",
    "$$\n",
    "\\forall c \\in C, Pr(c / p) = \\frac{1}{n}\n",
    "$$\n",
    "\n",
    "We can conclude that every ciphertext is equally probable.\n"
   ]
  },
  {
   "cell_type": "markdown",
   "metadata": {},
   "source": [
    "## **6. Use the EXTENDED EUCLIDEAN ALGORITHM to compute the following multiplicative inverses:**"
   ]
  },
  {
   "cell_type": "markdown",
   "metadata": {},
   "source": [
    "![Parte1](imgs/6parte1.jpeg)"
   ]
  },
  {
   "cell_type": "markdown",
   "metadata": {},
   "source": [
    "![Parte1](imgs/6parte2.jpeg)"
   ]
  },
  {
   "cell_type": "markdown",
   "metadata": {},
   "source": [
    "![Parte1](imgs/6parte3.jpeg)"
   ]
  }
 ],
 "metadata": {
  "kernelspec": {
   "display_name": "personal-data-engine",
   "language": "python",
   "name": "python3"
  },
  "language_info": {
   "codemirror_mode": {
    "name": "ipython",
    "version": 3
   },
   "file_extension": ".py",
   "mimetype": "text/x-python",
   "name": "python",
   "nbconvert_exporter": "python",
   "pygments_lexer": "ipython3",
   "version": "3.9.21"
  }
 },
 "nbformat": 4,
 "nbformat_minor": 2
}
