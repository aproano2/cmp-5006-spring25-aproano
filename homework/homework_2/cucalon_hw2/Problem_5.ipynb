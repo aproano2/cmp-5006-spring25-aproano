{
 "cells": [
  {
   "cell_type": "markdown",
   "id": "0fa42943",
   "metadata": {},
   "source": [
    "# Problem 5: Command Injection and Network Forensics"
   ]
  },
  {
   "cell_type": "markdown",
   "id": "73f7dd0e",
   "metadata": {},
   "source": [
    "### Intro\n",
    "\n",
    "In Problem 5, titled **Command Injection and Network Forensics**, the goal is to exploit command injection vulnerabilities while performing a network analysis to understand the attack's behavior. The task involves configuring DVWA to \"medium\" security level and setting up packet captures on both the attacker's and victim's machines using Wireshark. The objective is to identify command injection vulnerabilities in the DVWA application, craft payloads to establish a reverse shell connection, and bypass security filters. Once the vulnerabilities are exploited on a \"medium\" security level, the challenge is to elevate to \"hard\" security level and develop more sophisticated bypass techniques. \n",
    "\n",
    "Furthermore, the task includes performing forensic analysis on captured network traffic and logs to identify potential attack patterns, as well as implementing ModSecurity rules to detect and block command injection attacks. Finally, network-level detection rules will be introduced to enhance overall security.\n",
    "\n",
    "This analysis aims to highlight the importance of detecting and preventing command injection attacks and emphasizes network forensics as an essential part of identifying and mitigating such threats.\n"
   ]
  },
  {
   "cell_type": "markdown",
   "id": "4c7c9c85",
   "metadata": {},
   "source": [
    "### Command injection payloads"
   ]
  },
  {
   "cell_type": "markdown",
   "id": "ea1377ac",
   "metadata": {},
   "source": [
    "![Hash passwords](imag/5_1.jpeg)"
   ]
  },
  {
   "cell_type": "markdown",
   "id": "3de5d039",
   "metadata": {},
   "source": [
    "This is the process of **capturing network traffic using Wireshark** while performing the attack on DVWA. It displays a series of **TCP packets** being exchanged between the attacker (192.168.64.3) and the target machine (192.168.64.2). The packet capture highlights key events such as **SYN** and **FIN** packets, which are part of the **TCP handshake** and the connection closing, respectively. This is part of the first step in setting up a reverse shell. The attack is occurring under **medium security** settings in DVWA."
   ]
  },
  {
   "cell_type": "markdown",
   "id": "d9ef4b62",
   "metadata": {},
   "source": [
    "![Hash passwords](imag/5_2.jpeg)"
   ]
  },
  {
   "cell_type": "markdown",
   "id": "6ebfeba7",
   "metadata": {},
   "source": [
    "We can see the **ARP requests** being made between devices in the network, along with the start of a **TCP connection** to the target machine. The **ARP request** is used to resolve IP addresses to MAC addresses within the local network. Following this, **TCP traffic** is captured, including a **SYN** packet indicating the start of a connection attempt. This is significant because it shows that the attacker is beginning the communication to exploit the command injection vulnerability by sending malicious commands."
   ]
  },
  {
   "cell_type": "markdown",
   "id": "957d65e8",
   "metadata": {},
   "source": [
    "![Hash passwords](imag/5_3.jpeg)"
   ]
  },
  {
   "cell_type": "markdown",
   "id": "24bef006",
   "metadata": {},
   "source": [
    "This image displays the **command injection payload** entered into the DVWA. The attacker is exploiting the command injection vulnerability in DVWA by inputting a command into the \"Ping a device\" form. The payload is crafted to execute on the server, opening a **reverse shell** back to the attacker's machine at IP address `192.168.64.2` on port `4444`. This reverse shell allows the attacker to gain unauthorized access to the server, as it establishes a TCP connection to the attacker's machine. The `bash -c` command runs a shell on the target system, redirecting input and output through the specified TCP port to achieve remote access."
   ]
  },
  {
   "cell_type": "markdown",
   "id": "bb297b75",
   "metadata": {},
   "source": [
    "![Hash passwords](imag/5_4.jpeg)"
   ]
  },
  {
   "cell_type": "markdown",
   "id": "11db845e",
   "metadata": {},
   "source": [
    "Here, the attacker has obfuscated the command by encoding it to bypass security mechanisms, especially at **medium security levels** in DVWA. The use of **base64 encoding** transforms the original payload into a less recognizable format. By doing this, the attacker aims to evade detection from web application firewalls (WAFs) or other security filters that might block the command based on its recognizable structure."
   ]
  },
  {
   "cell_type": "markdown",
   "metadata": {},
   "source": [
    "![Hash passwords](imag/5_5.jpeg)"
   ]
  },
  {
   "cell_type": "markdown",
   "id": "c9103fe2",
   "metadata": {},
   "source": [
    "In the **hard security level** configuration in DVWA, where the attacker applies **more sophisticated obfuscation techniques** to bypass enhanced security filters. The attacker uses **base64 encoding** to hide the payload from detection mechanisms in the DVWA application. This is an advanced technique designed to evade detection by making the malicious command harder to identify, even in its obfuscated form."
   ]
  },
  {
   "cell_type": "markdown",
   "id": "161c0c7c",
   "metadata": {},
   "source": [
    "![Hash passwords](imag/5_6.jpeg)"
   ]
  },
  {
   "cell_type": "markdown",
   "id": "3891cbe1",
   "metadata": {},
   "source": [
    "The **base64 encoding of the payload** is shown being executed from the attacker’s terminal. The payload is first **encoded** using base64, which transforms the reverse shell command into an unreadable format. The encoded command is then submitted into the vulnerable DVWA form. By encoding the payload, the attacker hopes to evade detection by basic security filters at the **medium security level** while ensuring that the injected code is still executed when decoded on the target machine."
   ]
  },
  {
   "cell_type": "markdown",
   "id": "edfe7644",
   "metadata": {},
   "source": [
    "### Payload Obfuscation Using Base64"
   ]
  },
  {
   "cell_type": "markdown",
   "metadata": {},
   "source": [
    "![Hash passwords](imag/5_7.jpeg)"
   ]
  },
  {
   "cell_type": "markdown",
   "id": "04c2968f",
   "metadata": {},
   "source": [
    "This image shows the **payload obfuscation technique** used to bypass **medium security level filters** in DVWA. The **payload** is encoded using **base64**, making it more difficult to recognize and block by web application firewalls (WAFs) and other security mechanisms. \n",
    "\n",
    "The encoded payload is inserted into the \"Ping a device\" form in the DVWA application. The command is obfuscated with base64, which is a common method to evade detection from simple filters. This allows the attacker to exploit the command injection vulnerability by executing a reverse shell command on the server, redirecting the output to the attacker's machine. \n",
    "\n",
    "By encoding the command, the malicious input is disguised, making it harder for security tools to detect and block it."
   ]
  },
  {
   "cell_type": "markdown",
   "id": "4d4a4168",
   "metadata": {},
   "source": [
    "### Command Injection Vulnerabilities \n",
    "\n",
    "In these images, the **payloads** used to exploit the **command injection vulnerability** in the DVWA are demonstrated. The user enters the following **payload** to open a **reverse shell** and gain access to the vulnerable system:"
   ]
  },
  {
   "cell_type": "markdown",
   "id": "44704118",
   "metadata": {},
   "source": [
    "![Hash passwords](imag/5_8.jpeg)"
   ]
  },
  {
   "cell_type": "markdown",
   "id": "7dbbcf53",
   "metadata": {},
   "source": [
    "\n",
    "This command does two things:\n",
    "1. It opens a reverse shell by connecting back to the attacker machine at IP `192.168.64.2` on port `4444`.\n",
    "2. It executes the command on the server, allowing the attacker to remotely interact with the system, bypassing security restrictions.\n",
    "\n",
    "**Obfuscation** is introduced to evade detection by the **web application firewall (WAF)**. The attacker uses **Base64 encoding** to mask the malicious payload."
   ]
  },
  {
   "cell_type": "markdown",
   "metadata": {},
   "source": [
    "![Hash passwords](imag/5_9.jpeg)"
   ]
  },
  {
   "cell_type": "markdown",
   "metadata": {},
   "source": [
    "![Hash passwords](imag/5_10.jpeg)"
   ]
  },
  {
   "cell_type": "markdown",
   "id": "34800b28",
   "metadata": {},
   "source": [
    "The attacker has further modified the payload by **Base64 encoding** and appending it to the input, making the **payload** unreadable by most simple filters. Upon execution, it decodes and runs the original reverse shell command using the `base64 -d` and `bash` commands:\n",
    "\n",
    "This makes the payload even more difficult for basic detection mechanisms to identify.\n"
   ]
  },
  {
   "cell_type": "markdown",
   "metadata": {},
   "source": [
    "![Hash passwords](imag/5_11.jpeg)"
   ]
  },
  {
   "cell_type": "markdown",
   "id": "25fe8f08",
   "metadata": {},
   "source": [
    "This image demonstrates the **reverse shell** connection being initiated from the target system (victim machine). It shows the `netcat` (`nc`) command running on the attacker's machine, listening on port 4444 (`-lvnp 4444`). The attacker is waiting for an incoming connection, which will be initiated by the victim's system once the command injection is successful. The victim system executes a payload that triggers this connection, allowing the attacker to remotely control the system. This is a direct demonstration of how **command injection** leads to unauthorized access.\n"
   ]
  },
  {
   "cell_type": "markdown",
   "id": "13b7dde3",
   "metadata": {},
   "source": [
    "![Hash passwords](imag/5_12.jpeg)"
   ]
  },
  {
   "cell_type": "markdown",
   "id": "c400f07c",
   "metadata": {},
   "source": [
    "The attacker is interacting with the **victim machine** through the reverse shell. The image displays the execution of basic commands such as `whoami`, `pwd`, `ls -l`, and `ip a` within the vulnerable application directory. This confirms that the reverse shell is successfully established, and the attacker can execute commands on the victim machine. The displayed information shows the contents of the directory and system information, giving the attacker more insight into the system. "
   ]
  },
  {
   "cell_type": "markdown",
   "id": "a0f156cb",
   "metadata": {},
   "source": [
    "![Hash passwords](imag/5_13.jpeg)"
   ]
  },
  {
   "cell_type": "markdown",
   "id": "0b83b161",
   "metadata": {},
   "source": [
    "This final image further solidifies the attacker's access. The attacker is running multiple commands on the victim's system, including `hostname` to obtain the machine’s name and `ip a` to get the network interface configuration. The `ls -l` command reveals files in the directory, confirming that the attacker has successfully navigated the system. The attacker is now fully capable of conducting further malicious activities, such as file manipulation or network reconnaissance. This image emphasizes how deeply the attacker has penetrated the victim system through **command injection**."
   ]
  },
  {
   "cell_type": "markdown",
   "id": "6e8cfa13",
   "metadata": {},
   "source": [
    "### Packet capture files"
   ]
  },
  {
   "cell_type": "markdown",
   "id": "01cd6da7",
   "metadata": {},
   "source": [
    "![Hash passwords](imag/5_14.jpeg)"
   ]
  },
  {
   "cell_type": "markdown",
   "id": "dd5118de",
   "metadata": {},
   "source": [
    "This image displays the captured TCP stream between the attacker (192.168.64.3) and the target system (192.168.64.2). We can observe several TCP packets initiating and acknowledging communication, including the SYN, ACK, and FIN flags which confirm the establishment of the connection, data exchange, and termination process. The attack seems to be executing the reverse shell payload that was crafted earlier. This packet capture is part of the **Packet capture files (truncated to relevant sections)** deliverable, showing how the attacker has established a connection using port 4444, which is typically used for reverse shells."
   ]
  },
  {
   "cell_type": "markdown",
   "id": "c5033cba",
   "metadata": {},
   "source": [
    "![Hash passwords](imag/5_15.jpeg)"
   ]
  },
  {
   "cell_type": "markdown",
   "id": "5e01e6fd",
   "metadata": {},
   "source": [
    "This image is another capture of the TCP traffic, where we see several TCP packets between the attacker and the target machine. The SYN/ACK packets continue to appear as part of the connection establishment. The packet trace shows that the attacker's machine is actively trying to establish a reverse shell. The stream data highlights the progression of the reverse shell connection setup. This image is a part of the **Packet capture files (truncated to relevant sections)** deliverable, illustrating the sequence of network packets exchanged during the attack."
   ]
  },
  {
   "cell_type": "markdown",
   "metadata": {},
   "source": [
    "![Hash passwords](imag/5_16.jpeg)"
   ]
  },
  {
   "cell_type": "markdown",
   "id": "c6136b23",
   "metadata": {},
   "source": [
    "This image shows a capture with several TCP packets with the SYN and ACK flags, indicating the attempt to establish a connection to port 4444. Additionally, we can see HTTP requests being made to `/DVWA/vulnerabilities/exec/`, which suggests that the attacker is trying to exploit a command injection vulnerability by sending malicious commands via HTTP. The packets with these requests are essential for understanding the attack flow and are part of the **Packet capture files (truncated to relevant sections)** deliverable."
   ]
  },
  {
   "cell_type": "markdown",
   "id": "8b400ca1",
   "metadata": {},
   "source": [
    "### Network traffic analysis highlighting attack indicators"
   ]
  },
  {
   "cell_type": "markdown",
   "id": "2efdf487",
   "metadata": {},
   "source": [
    "![Hash passwords](imag/5_17.jpeg)"
   ]
  },
  {
   "cell_type": "markdown",
   "id": "dab1a8a4",
   "metadata": {},
   "source": [
    "We see a series of HTTP requests being captured that contain the command injection payload. The requests show that the attacker is attempting to interact with the DVWA application, exploiting the vulnerability by injecting the payload. The traffic indicates an attempt to execute commands and gain unauthorized access to the server, as demonstrated by the reverse shell setup. This is part of the **Network traffic analysis highlighting attack indicators** deliverable, where we identify the specific attack patterns in the captured traffic."
   ]
  },
  {
   "cell_type": "markdown",
   "id": "deb8e9f6",
   "metadata": {},
   "source": [
    "![Hash passwords](imag/5_18.jpeg)"
   ]
  },
  {
   "cell_type": "markdown",
   "id": "9e749cb8",
   "metadata": {},
   "source": [
    "This image highlights more HTTP GET requests from the attacker targeting the DVWA web application. The requests are malformed with the inclusion of `&` characters, often used in command injection attacks to separate commands. The traffic shows the attacker trying different ways to exploit the vulnerability through the HTTP requests. This is a significant part of the **Network traffic analysis highlighting attack indicators** deliverable, showing that the attacker is manipulating the application to execute commands on the underlying server."
   ]
  },
  {
   "cell_type": "markdown",
   "id": "12fa8c10",
   "metadata": {},
   "source": [
    "![Hash passwords](imag/5_19.jpeg)"
   ]
  },
  {
   "cell_type": "markdown",
   "id": "f03b0536",
   "metadata": {},
   "source": [
    "- **TCP Traffic (Port 4444)**: The packets show traffic between the source (192.168.64.3) and the destination (192.168.64.2), with port 4444 being used. This port is commonly used for reverse shell connections, indicating that the attacker might be trying to establish a shell connection after exploiting a command injection vulnerability.\n",
    "- **SYN and ACK Flags**: The use of the SYN and ACK flags signifies the establishment of a connection. This could be part of the initial setup phase of a reverse shell.\n",
    "- **Payloads**: The “PSH” (Push) and “ACK” flags indicate that data is being pushed to the receiver, which is likely the attacker’s machine. This is further confirmation that the attacker is actively trying to send payloads."
   ]
  },
  {
   "cell_type": "markdown",
   "id": "fa195809",
   "metadata": {},
   "source": [
    "![Hash passwords](imag/5_20.jpeg)"
   ]
  },
  {
   "cell_type": "markdown",
   "id": "e04aead0",
   "metadata": {},
   "source": [
    "- **HTTP POST Requests**: The HTTP POST packets show requests being sent to a vulnerability endpoint `/DVWA/vulnerabilities/exec/`, which is a known command execution vulnerability in DVWA. This is likely where the attacker is attempting to inject commands.\n",
    "- **Payload Submission**: The payload is being sent through HTTP with the content type set to `application/x-www-form-urlencoded`. The presence of the `YmFzaCBuY2w=` string indicates that the payload is base64 encoded, which suggests that the attacker is using encoding to bypass security mechanisms or to obfuscate the command injection."
   ]
  },
  {
   "cell_type": "markdown",
   "id": "8b656f80",
   "metadata": {},
   "source": [
    "![Hash passwords](imag/5_21.jpeg)"
   ]
  },
  {
   "cell_type": "markdown",
   "id": "2b533427",
   "metadata": {},
   "source": [
    "- **GET Requests with Parameters**: The captured packets show GET requests to `/DVWA/vulnerabilities/view_help.php`, with parameters such as `id=exec&security=medium&locale=en`. These types of requests could be indicative of an attempt to exploit a command injection vulnerability by including malicious input in the URL. The use of parameters like `security=medium` could be an attempt to bypass lower security levels.\n",
    "  - **Medium Security Level**: The attacker is attempting to bypass control by using two `&` symbols. Only one bypasses the control, allowing the attacker to execute a reverse shell command.\n",
    "  - **High Security Level**: The system now controls logical commands, ensuring that commands like `or |` need to be directly followed by the next command. Any typographical errors, like improper spacing, will prevent the attack from succeeding."
   ]
  },
  {
   "cell_type": "markdown",
   "id": "781b3108",
   "metadata": {},
   "source": [
    "### Indicators of Compromise:\n",
    "1. **Use of Port 4444**: This is a common port for reverse shell connections. If this port is being used in your network traffic, it's a strong indicator that a reverse shell may have been established.\n",
    "2. **HTTP Requests with Malicious Parameters**: The GET and POST requests with suspicious parameters (`id=exec`) are direct indicators of an attempt to exploit command injection vulnerabilities.\n",
    "3. **Repetitive Requests**: Multiple requests to the same endpoint with different parameters could indicate automated exploitation or reconnaissance to find weaknesses in the system.\n",
    "4. **Traffic Pattern Analysis**: The flow of data using the \"PSH\" flag suggests that the attacker is pushing data in a structured way, likely trying to exploit a vulnerability and confirm the success of the attack."
   ]
  },
  {
   "cell_type": "markdown",
   "id": "f0d8b28e",
   "metadata": {},
   "source": [
    "![Hash passwords](imag/5_22.jpeg)"
   ]
  },
  {
   "cell_type": "markdown",
   "id": "b5d19a24",
   "metadata": {},
   "source": [
    "Create ModSecurity Rules to Detect and Block Command Injection Attacks\n",
    "This image shows custom ModSecurity rules designed to detect and block command injection attacks. The rules block common command injection characters, reverse shell commands, and suspicious User-Agent strings. They also log suspicious commands without blocking them and block encoded payloads that may be part of a command injection attempt."
   ]
  },
  {
   "cell_type": "markdown",
   "id": "3ebf9ad5",
   "metadata": {},
   "source": [
    "### Perform forensic analysis on logs to identify attack patterns"
   ]
  },
  {
   "cell_type": "markdown",
   "id": "025c1629",
   "metadata": {},
   "source": [
    "![Hash passwords](imag/5_23.jpeg)"
   ]
  },
  {
   "cell_type": "markdown",
   "id": "5603be90",
   "metadata": {},
   "source": [
    "Forensic Analysis of Logs to Identify Attack Patterns\n",
    "These images display logs from ModSecurity and Apache, showing how suspicious requests are detected and blocked: \n",
    "1. **ModSecurity Actions**: The logs indicate ModSecurity blocking malicious requests with status `403` due to detected command injection patterns, such as suspicious `User-Agent` strings or reverse shell commands.\n",
    "\n",
    "2. **PHP Parsing Errors**: Errors in PHP parsing suggest that the attacker may have tried to exploit misconfigurations or send malformed requests that were intercepted by ModSecurity.\n",
    "\n",
    "3. **Suspicious Requests**: Multiple requests to vulnerable endpoints like `/DVWA/vulnerabilities/exec/` show the attacker attempting to exploit command injection vulnerabilities in the DVWA application.\n",
    "\n",
    "4. **Payload Submission**: Logs highlight GET and POST requests with common injection patterns, confirming that payloads are being submitted to exploit the server.\n",
    "\n",
    "5. **Access Denied**: ModSecurity successfully blocked access to the system with a `403` error code, indicating the firewall’s effectiveness in preventing unauthorized access based on the set rules.\n",
    "\n",
    "6. **Suspicious User-Agent**: The logs show `cmd.exe` and other suspicious strings in the `User-Agent` header, which were detected by ModSecurity’s rules designed to block such injection attempts.\n",
    "\n",
    "7. **Network-Level Detection**: The logs also show failed attempts to connect to unusual ports like `4444`, which is commonly used for reverse shells, indicating network-level attack attempts."
   ]
  },
  {
   "cell_type": "markdown",
   "metadata": {},
   "source": [
    "![Hash passwords](imag/5_24.jpeg)"
   ]
  },
  {
   "cell_type": "markdown",
   "id": "8e24b648",
   "metadata": {},
   "source": [
    "This log entry highlights several layers of defense working together to block command injection attempts and prevent attackers from exploiting vulnerabilities in the DVWA application. The most important takeaway is that ModSecurity is effectively blocking these malicious requests and logging relevant information for further analysis."
   ]
  },
  {
   "cell_type": "markdown",
   "metadata": {},
   "source": [
    "![Hash passwords](imag/5_25.jpeg)"
   ]
  },
  {
   "cell_type": "markdown",
   "id": "f58c3ce6",
   "metadata": {},
   "source": [
    "The logs show ModSecurity effectively blocking multiple command injection attempts targeting the DVWA application. PHP parsing errors in files like `/uploads/backdoor.php` indicate the attacker tried to exploit the server by uploading malicious scripts. ModSecurity denied access to these requests with a `403` error, showing that its security rules are functioning properly. Additionally, the logs reveal the attacker attempting to exploit various endpoints (e.g., `/login.php`, `/exec/`) with suspicious patterns like `php[\\\\]`, indicating command injection attempts. ModSecurity's pattern matching blocked these requests, and the repeated use of the same IP address (`192.168.64.3`) suggests automated exploitation attempts. Overall, ModSecurity successfully detected and blocked these malicious requests, protecting the system from potential attacks."
   ]
  },
  {
   "cell_type": "markdown",
   "id": "7e6011b0",
   "metadata": {},
   "source": [
    "![Hash passwords](imag/5_26.jpeg)"
   ]
  },
  {
   "cell_type": "markdown",
   "id": "d55b7ce7",
   "metadata": {},
   "source": [
    "This log shows HTTP request activity captured from the `/log/apache2/access.log` file. The key observations are:\n",
    "\n",
    "1. **Suspicious GET Requests**:\n",
    "   - There are multiple GET requests made to endpoints like `/DVWA/setup.php`, `/DVWA/login.php`, and other related files. The attacker is likely probing for vulnerabilities in the DVWA application by repeatedly accessing various resources.\n",
    "   \n",
    "2. **Unusual HTTP Traffic**:\n",
    "   - The repeated requests with similar paths and parameters, such as `/DVWA/vulnerabilities/exec/` or `/login.php`, suggest that these are part of an automated attack, with the same IP address (`192.168.64.3`) making many requests in quick succession.\n",
    "\n",
    "3. **POST Request**:\n",
    "   - The final log entry shows a `POST` request to `/DVWA/login.php`. This could indicate that the attacker is trying to perform a login or attempt to inject malicious data into the system via this form.\n",
    "\n",
    "4. **Access Denials**:\n",
    "   - While this particular log doesn't show ModSecurity's denial actions, the pattern of access requests to various endpoints is indicative of an attempted attack, which would likely be blocked by the ModSecurity rules you have implemented.\n",
    "\n",
    "These logs are part of the forensic analysis and help identify suspicious activity related to potential command injection or exploitation attempts on the DVWA system.\n"
   ]
  },
  {
   "cell_type": "markdown",
   "id": "c7bdc1ec",
   "metadata": {},
   "source": [
    "![Hash passwords](imag/5_27.jpeg)"
   ]
  },
  {
   "cell_type": "markdown",
   "id": "e7951e42",
   "metadata": {},
   "source": [
    "This log shows errors and failed connection attempts, including the failure to resolve domain names and errors in executing commands, likely due to attempts to exploit the system. The logs also show that ModSecurity is unable to open the audit log file due to a misconfiguration (`Syntax error on line 203`). The attacker seems to be trying to establish a reverse shell connection via the `/dev/tcp` command, but these connections are being refused, which indicates the system is blocking unauthorized access attempts. Additionally, the attacker tries to use various methods (e.g., `ping` and `whoami` commands) to test the system, but all attempts fail, suggesting active defenses are working as intended."
   ]
  },
  {
   "cell_type": "markdown",
   "id": "1a077ac5",
   "metadata": {},
   "source": [
    "![Hash passwords](imag/5_28.jpeg)"
   ]
  },
  {
   "cell_type": "markdown",
   "id": "3d15867f",
   "metadata": {},
   "source": [
    "This log shows repeated HTTP requests made by a suspicious IP address (`192.168.64.2`) to multiple vulnerable endpoints in the DVWA application, such as `/vulnerabilities/exec/`, `/security.php`, and `/login.php`. The attacker is attempting to exploit known vulnerabilities in these endpoints, likely trying to execute commands or gain unauthorized access. The log shows multiple `POST` and `GET` requests, suggesting automated and persistent attempts to exploit the system."
   ]
  },
  {
   "cell_type": "markdown",
   "id": "4e5c8316",
   "metadata": {},
   "source": [
    "![Hash passwords](imag/5_29.jpeg)"
   ]
  },
  {
   "cell_type": "markdown",
   "id": "e95659e9",
   "metadata": {},
   "source": [
    "This log shows repeated attempts to access vulnerabilities in the DVWA application, such as `/fi?page=include.php` and `/xss_d`. The attacker is likely exploiting specific parameters in HTTP requests. The repetition of these requests indicates an automated attack attempting to identify vulnerabilities."
   ]
  },
  {
   "cell_type": "markdown",
   "id": "f2d4724a",
   "metadata": {},
   "source": [
    "![Hash passwords](imag/5_30.jpeg)"
   ]
  },
  {
   "cell_type": "markdown",
   "id": "835324e5",
   "metadata": {},
   "source": [
    "The log reveals repeated requests made to vulnerable endpoints like `/DVWA/vulnerabilities/fi/?page=include.php`. The use of strings like `bash`, `nc`, and `dev/tcp` confirms that these are command injection attempts, while ModSecurity continues to block these requests with a 403 status.This log shows the configuration and restart of the Apache server with errors related to the `ServerName` configuration. It also indicates the loading of ModSecurity and a failed call to `StatusEngine`, along with the configuration of various modules."
   ]
  },
  {
   "cell_type": "markdown",
   "id": "74d4f437",
   "metadata": {},
   "source": [
    "### Log Analysis Findings\n",
    "\n",
    "The logs indicate multiple attempts to exploit vulnerabilities in the DVWA application, with repeated access to sensitive endpoints like `/vulnerabilities/exec/` and `/login.php` by the same IP address. ModSecurity successfully blocked these malicious requests, logging them with `403` errors. There were also PHP parsing errors, suggesting the attacker tried to upload or execute malicious scripts. Additionally, the Apache logs reveal configuration issues, such as the `ServerName` directive not being set correctly, and ModSecurity's `StatusEngine` failed to initialize properly. These logs confirm active defense mechanisms are in place, successfully blocking command injection and reverse shell attempts."
   ]
  },
  {
   "cell_type": "markdown",
   "id": "e11d9c89",
   "metadata": {},
   "source": [
    "### Recommended Command Injection Prevention Measures\n",
    "\n",
    "Command injection (or OS Command Injection) occurs when an application constructs system commands using user input and fails to properly neutralize dangerous characters, leading to the execution of unintended commands. To prevent this vulnerability, several defense strategies can be employed:\n",
    "\n",
    "#### Primary Defenses:\n",
    "1. **Avoid Calling OS Commands Directly**:\n",
    "   - The best defense is to avoid executing system commands directly through the software. Use built-in library functions (e.g., `mkdir()` instead of `system(\"mkdir /dir_name\")`) when possible.\n",
    "\n",
    "2. **Escape Values Added to OS Commands**:\n",
    "   - Escape functions like `escapeshellarg()` in PHP can sanitize user input before passing it to system commands, ensuring special characters like `&` or `|` are neutralized.\n",
    "\n",
    "3. **Parameterization and Input Validation**:\n",
    "   - **Parameterization**: Use structured mechanisms that enforce the separation of data and commands to avoid malicious injection.\n",
    "   - **Input Validation**: Validate user input by allowing only specific characters. For example, use a whitelist or regular expression to accept only safe characters (e.g., alphanumeric characters) and set limits on input length.\n",
    "\n",
    "#### Additional Defenses:\n",
    "1. **Principle of Least Privilege**:\n",
    "   - Ensure that applications run with the minimum privileges required. Avoid granting higher privileges than necessary, which can limit the impact of any successful attack.\n",
    "\n",
    "2. **Use Isolated Accounts**:\n",
    "   - For high-risk tasks, create isolated accounts with limited privileges dedicated to performing specific tasks.\n",
    "\n",
    "#### Code Examples:\n",
    "- **Java**: Instead of using `Runtime.exec()`, use `ProcessBuilder` to separate commands and arguments, which reduces the risk of command injection.\n",
    "  - Example:\n",
    "    ```java\n",
    "    ProcessBuilder pb = new ProcessBuilder(\"trustedCmd\", \"arg1\", \"arg2\");\n",
    "    pb.start();\n",
    "    ```\n",
    "\n",
    "By following these measures, you can significantly reduce the risk of command injection and ensure that user input is safely handled in applications.\n"
   ]
  }
 ],
 "metadata": {
  "language_info": {
   "name": "python"
  }
 },
 "nbformat": 4,
 "nbformat_minor": 5
}
