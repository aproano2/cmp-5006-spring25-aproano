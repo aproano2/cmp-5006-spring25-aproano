{
 "cells": [
  {
   "cell_type": "markdown",
   "id": "49eea118",
   "metadata": {},
   "source": [
    "# Problem 6: Comprehensive WAF Implementation and Testing"
   ]
  },
  {
   "cell_type": "markdown",
   "id": "5172552e",
   "metadata": {},
   "source": [
    "### Intro\n"
   ]
  },
  {
   "cell_type": "markdown",
   "id": "6d4ce2b8",
   "metadata": {},
   "source": [
    "The goal of this problem is to implement and evaluate a defense-in-depth approach using a WAF. By leveraging ModSecurity with the OWASP Core Rule Set (CRS), this exercise focuses on securing web applications against a variety of attacks. The key tasks involve configuring the WAF, creating custom rules, testing against multiple security levels, and tuning the system to minimize false positives while maximizing security effectiveness. This process aims to protect against vulnerabilities such as SQL injection, XSS, command injection, and other malicious threats, enhancing the overall security of web applications."
   ]
  },
  {
   "cell_type": "markdown",
   "id": "17a33e60",
   "metadata": {},
   "source": [
    "### Complete ModSecurity configuration"
   ]
  },
  {
   "cell_type": "markdown",
   "metadata": {},
   "source": [
    "![Hash passwords](imag/6_1.jpeg)"
   ]
  },
  {
   "cell_type": "markdown",
   "id": "4348bfe8",
   "metadata": {},
   "source": [
    "![Hash passwords](imag/6_2.jpeg)"
   ]
  },
  {
   "cell_type": "markdown",
   "id": "c24db5fe",
   "metadata": {},
   "source": [
    "**ModSecurity Logging and Monitoring Plan**\n",
    "\n",
    "To enable ModSecurity logging, three key directives need to be configured in the `modsecurity.conf` file. First, **SecAuditEngine On** activates the audit engine, allowing all HTTP transactions processed by the firewall to be logged. The **SecAuditLog** directive specifies the log file location, in this case, `/var/log/modsec_audit.log`. Lastly, **SecAuditLogParts ABIFHZ** defines which parts of the HTTP transaction will be logged, such as request headers, response status, and other essential components for security analysis. This configuration ensures comprehensive monitoring of all transactions, enabling administrators to identify malicious activity, attack patterns, and potential vulnerabilities in the system.\n"
   ]
  },
  {
   "cell_type": "markdown",
   "id": "da741321",
   "metadata": {},
   "source": [
    "![Hash passwords](imag/6_3.jpeg)"
   ]
  },
  {
   "cell_type": "markdown",
   "id": "eb8a1694",
   "metadata": {},
   "source": [
    "![Hash passwords](imag/6_4.jpeg)"
   ]
  },
  {
   "cell_type": "markdown",
   "id": "7263ddcc",
   "metadata": {},
   "source": [
    "## Set Up Real-Time Monitoring\n",
    "\n",
    "To enhance real-time monitoring, the `fail2ban` service is installed and configured to detect and block malicious activity based on ModSecurity logs. First, Fail2Ban is installed using the command `sudo apt-get install fail2ban`. Then, the ModSecurity filter is configured by editing the `/etc/fail2ban/filter.d/modsec.conf` file, where a regular expression is added to detect denied requests in the ModSecurity logs (`failregex = Modsecurity: .*denied.*<HOST>`). Finally, Fail2Ban is set up to automatically block malicious IP addresses by modifying the `/etc/fail2ban/jail.local` file, which defines the jail settings. This configuration allows Fail2Ban to automatically ban IPs identified as threats, providing real"
   ]
  },
  {
   "cell_type": "markdown",
   "id": "6c0e0018",
   "metadata": {},
   "source": [
    "![Hash passwords](imag/6_5.jpeg)"
   ]
  },
  {
   "cell_type": "markdown",
   "id": "ad1936bb",
   "metadata": {},
   "source": [
    "The image shows the configuration of a Fail2Ban filter, where a regular expression is set in `/etc/fail2ban/filter.d/modsec.conf` to detect denied requests in ModSecurity logs. The regex `failregex = Modsecurity: .*denied.*<HOST>` captures entries with \"denied\" followed by an IP address. This allows Fail2Ban to automatically block IP addresses attempting malicious activity, providing real-time protection."
   ]
  },
  {
   "cell_type": "markdown",
   "id": "6947f152",
   "metadata": {},
   "source": [
    "![Hash passwords](imag/6_6.jpeg)"
   ]
  },
  {
   "cell_type": "markdown",
   "id": "9f5fa180",
   "metadata": {},
   "source": [
    "In the image, the Fail2Ban jail configuration is shown, specifically the section for ModSecurity (`/etc/fail2ban/jail.local`). It defines the settings for real-time monitoring by enabling Fail2Ban (`enabled = true`), setting the filter to `modsec`, and specifying the action to block malicious IP addresses using `iptables`. The log file to monitor is `/var/log/modsec_audit.log`, and the maximum number of retries before banning an IP is set to 5 (`maxretry = 5`). This configuration allows Fail2Ban to automatically block IP addresses attempting malicious actions, such as SQL injection or brute-force attacks, based on the ModSecurity logs, providing real-time protection against these threats."
   ]
  },
  {
   "cell_type": "markdown",
   "id": "bc3b85f8",
   "metadata": {},
   "source": [
    "![Hash passwords](imag/6_7.jpeg)"
   ]
  },
  {
   "cell_type": "markdown",
   "id": "fa291ff5",
   "metadata": {},
   "source": [
    "**Set Up Alerts for Suspicious Activity**\n",
    "\n",
    "This image shows the configuration of alerts for suspicious activity in ModSecurity. The file `/etc/logwatch/conf/services/modsec.conf` is being edited to include keywords like `union`, `select`, `from`, `<script>`, and `document.cookie`, which are commonly associated with SQL injections or XSS attacks. By configuring such alerts, administrators are notified when potential security threats are detected, allowing for quick responses to mitigate risks before they escalate.\n"
   ]
  },
  {
   "cell_type": "markdown",
   "id": "e14bb66d",
   "metadata": {},
   "source": [
    "### Configure ModSecurity’s Detection Thresholds and Sensitivity"
   ]
  },
  {
   "cell_type": "markdown",
   "id": "ec10cafd",
   "metadata": {},
   "source": [
    "![Hash passwords](imag/6_8.jpeg)"
   ]
  },
  {
   "cell_type": "markdown",
   "id": "d5dabcbf",
   "metadata": {},
   "source": [
    "In this image, the ModSecurity configuration file (`/etc/modsecurity/modsecurity.conf`) is being edited to enable critical security rules. The configuration includes:\n",
    "\n",
    "- **SecRuleEngine On**: Activates ModSecurity and attaches it to every HTTP transaction.\n",
    "- **SecRequestBodyAccess On**: Enables ModSecurity to inspect the request body.\n",
    "- **SecResponseBodyAccess On**: Enables ModSecurity to inspect the response body.\n",
    "- **SecRuleParanoiaLevel 3**: Sets the paranoia level to 3, which increases sensitivity to detect potentially harmful requests, while balancing the risk of false positives.\n",
    "\n",
    "These settings ensure that ModSecurity is actively monitoring and protecting the web application from various security threats. Regularly reviewing and updating these rules is essential for maintaining an effective Web Application Firewall (WAF) that can adapt to new attack techniques and evolving vulnerabilities."
   ]
  },
  {
   "cell_type": "markdown",
   "id": "71fabebe",
   "metadata": {},
   "source": [
    "![Hash passwords](imag/6_9.jpeg)"
   ]
  },
  {
   "cell_type": "markdown",
   "id": "cb5c318a",
   "metadata": {},
   "source": [
    "The command `sudo nano /etc/modsecurity/modsecurity.conf` is executed to edit the ModSecurity configuration file. This step is part of the process of managing ModSecurity settings, which is essential for configuring the (WAF). By accessing this file, administrators can modify various rules, sensitivity levels, and other settings that control how ModSecurity detects and blocks malicious traffic, ensuring the system is properly secured."
   ]
  },
  {
   "cell_type": "markdown",
   "id": "568fde19",
   "metadata": {},
   "source": [
    "![Hash passwords](imag/6_10.jpeg)"
   ]
  },
  {
   "cell_type": "markdown",
   "id": "477feff7",
   "metadata": {},
   "source": [
    "The image shows the configuration for log rotation in the file `/etc/logrotate.d/modsec`. Log rotation is a crucial practice for managing system resources and ensuring that log files do not consume excessive disk space. In this configuration, ModSecurity logs (`/var/log/modsec_audit.log`) are set to rotate daily, with up to 7 archived logs. The `compress` and `delaycompress` options ensure that older logs are compressed to save space. This process helps maintain manageable log sizes while retaining necessary data for analysis or troubleshooting purposes, without sacrificing the availability of historical logs."
   ]
  },
  {
   "cell_type": "markdown",
   "id": "847cae23",
   "metadata": {},
   "source": [
    "### WAF Bypass Techniques and Their Effectiveness\n",
    "\n",
    "In this section, we outline several advanced techniques used to bypass Web Application Firewalls (WAFs) and their effectiveness in evading detection. The following techniques were tested and evaluated:\n",
    "\n",
    "1. **Double URL Encoding**: A technique where characters are URL-encoded twice to bypass WAF filters that decode URLs only once.\n",
    "2. **HTTP Parameter Pollution (HPP)**: This technique involves injecting multiple parameters with the same name into a request, exploiting the way some WAFs process HTTP parameters.\n",
    "3. **Case Sensitivity Bypass**: By altering the case of malicious payloads, attackers can exploit WAFs that perform case-sensitive evaluations of attack strings.\n",
    "4. **Unicode Encoding Bypass**: Using Unicode encoding to bypass WAFs that may not decode Unicode characters properly, allowing malicious payloads to slip through.\n",
    "5. **Comment Injection Bypass**: Injecting malicious code inside comments that some WAFs might ignore, allowing payloads to be executed when rendered in the browser.\n",
    "\n",
    "These techniques were tested against the WAF setup to evaluate their effectiveness in bypassing WAF protections. The findings of these tests highlight the potential vulnerabilities in WAF configurations and provide insights into improving WAF detection mechanisms."
   ]
  },
  {
   "cell_type": "markdown",
   "id": "734cf577",
   "metadata": {},
   "source": [
    "### Test your WAF against all DVWA"
   ]
  },
  {
   "cell_type": "markdown",
   "id": "a05e44bb",
   "metadata": {},
   "source": [
    "![Hash passwords](imag/6_6.5.jpeg)"
   ]
  },
  {
   "cell_type": "markdown",
   "id": "861384d0",
   "metadata": {},
   "source": [
    "This command is used to edit the log rotation configuration for ModSecurity logs. Log rotation ensures that log files are managed efficiently, preventing them from taking up excessive disk space. By using this configuration, old logs are archived, compressed, and kept for a defined period. This is important for maintaining system performance while retaining the necessary logs for troubleshooting and compliance.\n",
    "\n",
    "In this context, `logrotate` will manage the ModSecurity audit logs, ensuring that logs are rotated regularly and older logs are archived for future reference or analysis."
   ]
  },
  {
   "cell_type": "markdown",
   "id": "a727d513",
   "metadata": {},
   "source": [
    "![Hash passwords](imag/6_14.jpeg)"
   ]
  },
  {
   "cell_type": "markdown",
   "id": "3b3d8e21",
   "metadata": {},
   "source": [
    "We can see an attempted **command injection** attack on the DVWA \"Command Injection\" module. The attacker tried to execute a reverse shell command by inserting a malicious payload into the input field. The system correctly responded with an error, indicating the IP address entered was invalid. This suggests that the WAF effectively blocked the command injection attempt, preventing a potential compromise. The WAF rule preventing such payloads was successful in filtering out this malicious request.\n",
    "\n",
    "The WAF successfully blocked the command injection attempt, showing its efficiency at both medium and hard levels."
   ]
  },
  {
   "cell_type": "markdown",
   "id": "13098a02",
   "metadata": {},
   "source": [
    "![Hash passwords](imag/6_15.jpeg)"
   ]
  },
  {
   "cell_type": "markdown",
   "id": "06e35402",
   "metadata": {},
   "source": [
    "The attacker attempted to upload a potentially dangerous file (`shell.php.png`) through the DVWA \"File Upload\" module. The file was rejected by the system because it was not a valid image format (JPEG or PNG), as shown by the error message. The WAF likely detected this as a potential file upload attack and blocked it, preventing the malicious file from being uploaded.\n",
    "\n",
    "The WAF blocked the unauthorized file upload attempt, demonstrating its capacity to prevent attacks that exploit file upload vulnerabilities.\n"
   ]
  },
  {
   "cell_type": "markdown",
   "id": "7f428c3e",
   "metadata": {},
   "source": [
    "![Hash passwords](imag/6_16.jpeg)"
   ]
  },
  {
   "cell_type": "markdown",
   "id": "8e9cf8b0",
   "metadata": {},
   "source": [
    "This shows a series of SQL injection attempts, specifically targeting the DVWA \"SQL Injection\" module. These log entries contain evidence of an attacker trying to manipulate SQL queries through the input fields. The WAF logs indicate that the attempts did not succeed, as the requests were intercepted and blocked before they could exploit any vulnerabilities in the application.\n",
    "\n",
    "The WAF effectively blocked SQL injection attempts, confirming that the system's rules for filtering SQL-related payloads are functioning as intended."
   ]
  },
  {
   "cell_type": "markdown",
   "id": "d9bf25af",
   "metadata": {},
   "source": [
    "![Hash passwords](imag/6_17.jpeg)"
   ]
  },
  {
   "cell_type": "markdown",
   "id": "5a0bbd60",
   "metadata": {},
   "source": [
    "The image shows ModSecurity's error logs and the Apache2 access logs. Here we can see errors related to ModSecurity’s inability to open the audit log file, likely due to incorrect file path configurations. These errors, such as \"ModSecurity: Failed to open the audit log file,\" indicate issues with the ModSecurity configuration.\n",
    "\n",
    "The error suggests that while the WAF might be blocking some attacks, there are configuration issues that prevent proper logging, which needs to be addressed to ensure better monitoring and tracking of attacks.\n"
   ]
  },
  {
   "cell_type": "markdown",
   "id": "c3b7976c",
   "metadata": {},
   "source": [
    "![Hash passwords](imag/6_18.jpeg)"
   ]
  },
  {
   "cell_type": "markdown",
   "id": "ed7b2d85",
   "metadata": {},
   "source": [
    "The image shows the **ModSecurity status log** and Apache2 error logs, displaying the successful configuration of ModSecurity after resolving some previous issues. The logs indicate that ModSecurity is enabled and is running correctly, as evidenced by the `ModSecurity configured` messages. However, there are still warnings related to potential misconfigurations, such as the inability to fully resolve the server’s domain name and some missing configurations for the `SecStatusEngine` directive.\n",
    "\n",
    "While ModSecurity is now configured and running, there are minor issues with name resolution and configuration that need to be addressed to optimize the WAF's performance. The WAF is currently functioning at a basic level but can be improved with further tuning.\n"
   ]
  },
  {
   "cell_type": "markdown",
   "id": "a8e67396",
   "metadata": {},
   "source": [
    "In conclusion, although the WAF successfully blocked multiple attack attempts, including **command injection**, **file upload vulnerabilities**, and **SQL injections**, there are issues with ModSecurity's configuration and logging that need attention. These configuration errors, such as missing server name resolution and audit log issues, hinder the effectiveness of the WAF. Once these issues are fixed, the WAF will provide more reliable protection and offer detailed logging for further monitoring and analysis."
   ]
  },
  {
   "cell_type": "markdown",
   "id": "ee7326e6",
   "metadata": {},
   "source": [
    "### Rule tuning documentation"
   ]
  },
  {
   "cell_type": "markdown",
   "id": "c228dbf5",
   "metadata": {},
   "source": [
    "![Hash passwords](imag/6_11.jpeg)"
   ]
  },
  {
   "cell_type": "markdown",
   "id": "59253e4e",
   "metadata": {},
   "source": [
    "In the image, the command `sudo nano /etc/modsecurity/modsecurity.conf` is used to open the ModSecurity configuration file. This file contains the settings and rules that ModSecurity follows to filter and block malicious web requests. Using this command, system administrators can modify the configuration to suit their security needs, such as enabling or adjusting various rules to protect against specific vulnerabilities like SQL injection or cross-site scripting (XSS)."
   ]
  },
  {
   "cell_type": "markdown",
   "id": "14d59325",
   "metadata": {},
   "source": [
    "![Hash passwords](imag/6_12.jpeg)"
   ]
  },
  {
   "cell_type": "markdown",
   "id": "9a8916d9",
   "metadata": {},
   "source": [
    "![Hash passwords](imag/6_13.jpeg)"
   ]
  },
  {
   "cell_type": "markdown",
   "id": "4e515e33",
   "metadata": {},
   "source": [
    "**Rule to Detect Password Hash Extraction Attempts**\n",
    "\n",
    "In the images, we can see a **ModSecurity rule** designed to detect attempts to extract password hashes from a database. The rule examines various parts of the HTTP request, including the URI, headers, parameters, and request body, using regular expressions to detect malicious patterns.\n",
    "\n",
    "- The rule uses the `@rx` operator to search for specific patterns in SQL queries, such as:\n",
    "    - `select ... from ... users.password`: Detects SQL queries attempting to access the users' password column.\n",
    "    - `union select`: Detects union-based SQL injection attempts to combine malicious queries.\n",
    "    - `select ... from ... hash`: Looks for queries attempting to select password hashes.\n",
    "\n",
    "This rule is configured with `id:10001` and `phase:2`, meaning it is applied during the second phase of request processing (request body analysis). If the rule matches any of these patterns, the request is denied, and an error message `Password hash extraction attempt detected` is logged.\n",
    "\n",
    "This rule effectively blocks attempts to extract password hashes from the database, improving the security of the web application.\n"
   ]
  },
  {
   "cell_type": "markdown",
   "id": "7aa28264",
   "metadata": {},
   "source": [
    "**ModSecurity Rule Explanation**\n",
    "\n",
    "The configuration in the images shows a **ModSecurity rule** designed to prevent attackers from extracting password hashes from the database using SQL injection. The rule looks for specific patterns in the HTTP request, including attempts to query the `password` or `hash` fields from the `users` table using SQL injection techniques like `select`, `union select`, and other patterns designed to bypass security filters. When the rule detects these patterns, it blocks the request, logging the incident with a message indicating a password hash extraction attempt.\n",
    "\n",
    "This rule provides a strong defense against SQL injection attacks targeting sensitive information, such as password hashes, and ensures that such attempts are promptly blocked by ModSecurity.\n",
    "\n"
   ]
  },
  {
   "cell_type": "markdown",
   "id": "fb6e001a",
   "metadata": {},
   "source": [
    "## Recommended WAF best practices"
   ]
  },
  {
   "cell_type": "markdown",
   "id": "c8813e01",
   "metadata": {},
   "source": [
    "When it comes to protecting your digital/web assets, your Web Application Firewall (WAF) is one of your most critical security tools. It's important to understand how to deploy, monitor, and manage your WAF effectively to avoid confusion and ensure maximum protection. Below are some best practices to follow:\n",
    "\n",
    "#### Deployment\n",
    "\n",
    "Before deploying a WAF, carefully assess your needs and expectations. Consider these questions to set a solid foundation for a strong WAF deployment:\n",
    "- What web applications and sensitive data do you want to protect?\n",
    "- Does the WAF offer necessary features like API security, access control, and protection against OWASP Top 10 vulnerabilities?\n",
    "- Which threats are you most concerned about? Focus on issues like Cross-site Scripting (XSS), SQL injection, and Denial-of-Service (DDoS) attacks.\n",
    "- Does the WAF align with your organization's security policy, including features like IP whitelisting, rate limiting, and SSL support?\n",
    "\n",
    "To ensure a successful WAF deployment:\n",
    "- Document your applications, endpoints, and IP addresses.\n",
    "- Determine your security risk tolerance.\n",
    "- Define what traffic is allowed and restricted.\n",
    "\n",
    "#### In-Line Deployment\n",
    "\n",
    "WAFs can be deployed either in-line or out-of-line. **In-line deployment** is the preferred method, as it gives you more control over web traffic. This configuration allows for better security, enabling you to block malicious traffic and decrypt/log traffic as it passes through.\n",
    "\n",
    "#### Monitoring and Management\n",
    "\n",
    "Effective WAF monitoring is essential. Best practices for WAF management include:\n",
    "- **Integrating with SIEM**: Ensure your WAF is integrated with your Security Information and Event Management (SIEM) system to provide broader visibility into network traffic.\n",
    "- **Network Topology Awareness**: Understand your network architecture to improve monitoring and troubleshooting.\n",
    "- **Developer Access**: Ensure your devops team has proper access to monitor and adjust the WAF as needed.\n",
    "\n",
    "#### Regular Testing and Auditing\n",
    "\n",
    "To maintain optimal security, regularly test your WAF against common threats like SQL injections and XSS. Stay updated on emerging threats and ensure your WAF is audit-ready for compliance standards (e.g., PCI DSS).\n",
    "\n",
    "#### Rule Optimization\n",
    "\n",
    "WAF rules should be regularly reviewed and tuned to ensure they do not produce false positives. It's essential to optimize the rules to balance security and usability, adapting them to your specific applications and deployments.\n",
    "\n",
    "#### Integration with Other Security Tools\n",
    "\n",
    "For comprehensive protection, integrate your WAF with other security tools such as Intrusion Prevention Systems (IPS) and DDoS protection services. A WAF integrated with a cloud\n"
   ]
  }
 ],
 "metadata": {
  "language_info": {
   "name": "python"
  }
 },
 "nbformat": 4,
 "nbformat_minor": 5
}
