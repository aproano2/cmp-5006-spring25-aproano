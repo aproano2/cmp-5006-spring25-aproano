{
 "cells": [
  {
   "cell_type": "markdown",
   "id": "0d8b6c57",
   "metadata": {},
   "source": [
    "# Problem 1: Authentication Attacks and Password Cracking"
   ]
  },
  {
   "cell_type": "markdown",
   "id": "51d00ece",
   "metadata": {},
   "source": [
    "### Intro\n",
    "\n",
    "To perform effective password cracking and authentication attacks, we used the widely known wordlist rockyou.txt, which contains millions of real-world passwords leaked from the 2009 RockYou data breach. This list is frequently used in penetration testing due to its high success rate in matching weak or reused passwords.\n",
    "\n",
    "John the Ripper, Hashcat, and Hydra are powerful password-cracking tools widely used in cybersecurity and penetration testing.\n",
    "John the Ripper is a fast, command-line tool designed to detect weak passwords by using dictionary, brute-force, and hybrid attacks.\n",
    "Hashcat, on the other hand, is a more advanced and flexible GPU-accelerated password recovery tool that supports a wide range of hash algorithms and attack modes.\n",
    "Both tools are commonly used to audit password security and recover plaintext passwords from hashed values.\n",
    "Hydra complements these tools by performing brute-force attacks on login forms and network services, supporting multiple protocols like HTTP, FTP, and SSH. It is especially useful for testing the strength of authentication mechanisms in web applications such as DVWA.\n",
    "\n",
    "The password hashes stored in DVWA’s database are encoded using the MD5 hashing algorithm. MD5 is a cryptographic hash function that produces a fixed 128-bit hash from any input. Since MD5 is a one-way function, we cannot reverse it directly — instead, we use tools like John the Ripper and Hashcat to attempt to recover the original plaintext passwords by comparing the hashes to known passwords from a wordlist."
   ]
  },
  {
   "cell_type": "markdown",
   "id": "05ab61af",
   "metadata": {},
   "source": [
    "![Hash passwords](imag/1_1.jpeg)"
   ]
  },
  {
   "cell_type": "markdown",
   "id": "46ca0b03",
   "metadata": {},
   "source": [
    "### John"
   ]
  },
  {
   "cell_type": "markdown",
   "id": "c56a9f7c",
   "metadata": {},
   "source": [
    "![Hash passwords](imag/Hashes_john.jpeg)"
   ]
  },
  {
   "cell_type": "markdown",
   "id": "e830c624",
   "metadata": {},
   "source": [
    "We accessed the DVWA MariaDB database and extracted usernames along with their corresponding password hashes from the users table. These hashes are stored using the MD5 algorithm, which produces a 32-character hexadecimal string. We saved the extracted hashes into a file (hashes.txt) to use in password-cracking tools.\n",
    "\n",
    "Next, we used John the Ripper with the rockyou.txt wordlist to crack the MD5 hashes. By specifying the format as raw-md5, John successfully recovered four weak passwords: password, abc123, letmein, and charley. This demonstrates how easily unsalted MD5 hashes can be cracked when users choose commonly used passwords."
   ]
  },
  {
   "cell_type": "markdown",
   "id": "eb5cfb4b",
   "metadata": {},
   "source": [
    "### Hashcat"
   ]
  },
  {
   "cell_type": "markdown",
   "id": "1c28de50",
   "metadata": {},
   "source": [
    "![Hash passwords](imag/hashcat_1.jpeg)"
   ]
  },
  {
   "cell_type": "markdown",
   "id": "386f075c",
   "metadata": {},
   "source": [
    "This tells Hashcat to crack MD5 hashes (-m 0) using the rockyou.txt wordlist against the hashes in hashes.txt."
   ]
  },
  {
   "cell_type": "markdown",
   "id": "2e87ce49",
   "metadata": {},
   "source": [
    "![Hash passwords](imag/hashcat_2.jpeg)"
   ]
  },
  {
   "cell_type": "markdown",
   "id": "d0e4ddf9",
   "metadata": {},
   "source": [
    "The rockyou.txt wordlist has been successfully loaded into memory. Hashcat identifies 1,434,392 potential passwords and prepares for the cracking process. Various optimizations (e.g., Zero-Byte, Not-Salted, Raw-Hash) are applied to improve performance."
   ]
  },
  {
   "cell_type": "markdown",
   "id": "92e88b8a",
   "metadata": {},
   "source": [
    "![Hash passwords](imag/hashcat_3.jpeg)"
   ]
  },
  {
   "cell_type": "markdown",
   "id": "9e6ae488",
   "metadata": {},
   "source": [
    "Hashcat successfully cracks 4 out of 4 hashes using the rockyou.txt wordlist. The cracked passwords (password, abc123, letmein, charley) are printed next to their corresponding MD5 hashes. The session shows 100% success in recovering all hashes, confirming that the original passwords were weak and easily guessable."
   ]
  },
  {
   "cell_type": "markdown",
   "id": "5dea5b1a",
   "metadata": {},
   "source": [
    "![Hash passwords](imag/hashcat_4.jpeg)"
   ]
  },
  {
   "cell_type": "markdown",
   "id": "18e8678f",
   "metadata": {},
   "source": [
    "This shows a detailed summary of the cracking session. It confirms that all 4 hashes were recovered with a speed of **140.6 kH/s**. The output also displays progress, performance metrics, restore points, and candidate password suggestions. The process completed successfully in just a few seconds, clearly demonstrating **Hashcat’s efficiency** in cracking weak MD5 hashes using a dictionary attack."
   ]
  },
  {
   "cell_type": "markdown",
   "id": "9a3f16e6",
   "metadata": {},
   "source": [
    "### Custom wordlist and Rule Sets created"
   ]
  },
  {
   "cell_type": "markdown",
   "id": "3bb16e17",
   "metadata": {},
   "source": [
    "![Hash passwords](imag/Customw.jpeg)"
   ]
  },
  {
   "cell_type": "markdown",
   "id": "c56f95ee",
   "metadata": {},
   "source": [
    "We created a **custom password wordlist** named `custom_passwords.txt` containing common and predictable passwords that might be used in the DVWA environment. Examples include simple passwords like `123456` and `password123`, as well as more contextual ones such as `dvwa`, `admin`, `admin123`, `user123`, and `Hello123`. This wordlist is tailored to improve the efficiency of dictionary attacks by focusing on likely choices based on the application's context and typical user behavior.\n"
   ]
  },
  {
   "cell_type": "markdown",
   "id": "299972f7",
   "metadata": {},
   "source": [
    "![Hash passwords](imag/rulesets.jpeg)"
   ]
  },
  {
   "cell_type": "markdown",
   "id": "1ff09d97",
   "metadata": {},
   "source": [
    "We defined a **custom password rule set** in a file named `custom_passwordrules.txt`. These rules apply transformations to each word in the wordlist to generate realistic password variations. For example:\n",
    "- `c`: Capitalize the first letter  \n",
    "- `$1$2`: Add \"12\" at the end  \n",
    "- `Az`: Append \"z\"  \n",
    "- `r`: Reverse the password  \n",
    "- `c$123`: Capitalize and add \"123\"  \n",
    "- `u`: Capitalize the entire word  \n",
    "- `d`: Duplicate the password  \n",
    "- `$!`: Add \"!\" at the end  \n",
    "- `c$2024`: Capitalize and append the year  \n",
    "- `$1`: Add \"1\" at the end  \n",
    "\n",
    "These rules simulate common user behaviors when creating passwords, improving the chances of successful cracking during dictionary attacks.\n"
   ]
  },
  {
   "cell_type": "markdown",
   "id": "2ea99d69",
   "metadata": {},
   "source": [
    "## Hydra"
   ]
  },
  {
   "cell_type": "markdown",
   "id": "784c5834",
   "metadata": {},
   "source": [
    "![Hash passwords](imag/hydra_1.jpeg)"
   ]
  },
  {
   "cell_type": "markdown",
   "id": "ca32ef7f",
   "metadata": {},
   "source": [
    "In this image, we executed the Hydra tool to perform a brute-force attack against the DVWA login page. The command specifies a list of usernames (`users.txt`) and a custom password list (`custom_passwords.txt`), targeting the login form at `192.168.100.217`. The `http-post-form` option defines the structure of the login request and the string that indicates a failed login attempt. Hydra begins testing different combinations, and several successful login attempts for the `admin` user are displayed, including passwords such as `admin`, `adminpa`, `password`, and `123456`."
   ]
  },
  {
   "cell_type": "markdown",
   "id": "60970098",
   "metadata": {},
   "source": [
    "![Hash passwords](imag/hydra_2.jpeg)"
   ]
  },
  {
   "cell_type": "markdown",
   "id": "a058c6ad",
   "metadata": {},
   "source": [
    "This shows Hydra continuing the brute-force process for additional users such as `gordonb` and `1337pablo`. The output confirms multiple successful password guesses using weak or default credentials like `admin`, `DVWA`, `Hello`, and `user1`. Each green line indicates a valid login found by Hydra, demonstrating how easily weak passwords can be exploited across multiple user accounts."
   ]
  },
  {
   "cell_type": "markdown",
   "id": "77fd0bef",
   "metadata": {},
   "source": [
    "![Hash passwords](imag/hydra_3.jpeg)"
   ]
  },
  {
   "cell_type": "markdown",
   "id": "440c1032",
   "metadata": {},
   "source": [
    "Hydra completes the brute-force session and summarizes the results. The report confirms that the tool successfully tested all credentials and identified **59 valid username-password combinations** across the users listed. This demonstrates the effectiveness of Hydra when combined with a targeted user list and a well-constructed custom wordlist, and emphasizes the importance of strong password policies in preventing such attacks."
   ]
  },
  {
   "cell_type": "markdown",
   "id": "82defb7c",
   "metadata": {},
   "source": [
    "## ModSecurity Rules"
   ]
  },
  {
   "cell_type": "markdown",
   "id": "ba04b1fe",
   "metadata": {},
   "source": [
    "![Hash passwords](imag/regperso.jpeg)"
   ]
  },
  {
   "cell_type": "markdown",
   "id": "18f50370",
   "metadata": {},
   "source": [
    "This image displays the custom rules to detect and block brute force login attempts.\n",
    "\n",
    "The first rule matches access to `/DVWA/login.php` and checks the response for the string `\"Login failed\"`. If that condition is met, a counter (`ip.brute_force`) is incremented for the attacking IP address. The counter expires after 60 seconds.\n",
    "\n",
    "The second rule triggers when the value of `ip.brute_force` exceeds 5, meaning the IP has failed more than five login attempts within a minute. In that case, the request is blocked and logged as a brute force attack.\n",
    "\n",
    "These rules provide automated detection and mitigation of brute force attempts on the login form."
   ]
  },
  {
   "cell_type": "markdown",
   "id": "9bfdee2a",
   "metadata": {},
   "source": [
    "![Hash passwords](imag/ms_1.jpeg)"
   ]
  },
  {
   "cell_type": "markdown",
   "id": "32da33fb",
   "metadata": {},
   "source": [
    "This image shows the base configuration for enabling ModSecurity. The rule engine is turned on with `SecRuleEngine On`, and a specific Core Rule Set (CRS) file is included using `Include /etc/modsecurity/crs/REQUEST-949-BLOCKING-EVALUATION.conf`. The line `SecStatusEngine On` is also added to enable logging and status visibility.\n",
    "\n",
    "This configuration is activating ModSecurity, allowing it to monitor web traffic and apply the defined security rules. Without this setup, the custom rules written later would not be executed."
   ]
  },
  {
   "cell_type": "markdown",
   "id": "0173632d",
   "metadata": {},
   "source": [
    "![Hash passwords](imag/m_s_2.jpeg)"
   ]
  },
  {
   "cell_type": "markdown",
   "id": "1f181671",
   "metadata": {},
   "source": [
    "This is the execution of a brute force attack using the Hydra tool on the DVWA login page. The command specifies the use of a username list (`users.txt`) and a custom password list (`custom_passwords.txt`) to attempt multiple login combinations via an HTTP POST request. The target URL is `/DVWA/login.php`, and the attack checks for the response string `\"Login failed\"` to identify unsuccessful login attempts. As shown in the output, Hydra completed the attack with 60 login attempts, but none of the credentials were valid."
   ]
  },
  {
   "cell_type": "markdown",
   "id": "405ca993",
   "metadata": {},
   "source": [
    "## Comparative analysis of medium vs. hard security levels"
   ]
  },
  {
   "cell_type": "markdown",
   "id": "e48ed080",
   "metadata": {},
   "source": [
    "![Hash passwords](imag/hvm_1.jpeg)"
   ]
  },
  {
   "cell_type": "markdown",
   "id": "b45e0837",
   "metadata": {},
   "source": [
    "![Hash passwords](imag/hvm_2.jpeg)"
   ]
  },
  {
   "cell_type": "markdown",
   "id": "9b435f93",
   "metadata": {},
   "source": [
    "![Hash passwords](imag/hvm_3.jpeg)"
   ]
  },
  {
   "cell_type": "markdown",
   "id": "cf00d8cd",
   "metadata": {},
   "source": [
    "### DVWA: Medium vs Hard\n",
    "\n",
    "| **Feature**                          | **Medium Security Level**                                                                 | **Hard (High) Security Level**                                                                 |\n",
    "|--------------------------------------|--------------------------------------------------------------------------------------------|-------------------------------------------------------------------------------------------------|\n",
    "| **Brute Force Login**                | The login form does not change much. No strong protection. Hydra attacks are possible.     | Uses CSRF tokens and stricter session handling. Hydra attacks usually fail.                    |\n",
    "| **Error Messages**                   | Clear feedback such as `\"Login failed\"` helps attackers identify failed attempts.          | Generic or no error messages. Sometimes redirects without explanation or blocks IPs.           |\n",
    "| **CSRF Tokens**                      | Tokens may be present but are often reusable or less restrictive.                          | Tokens change with every session/request, which breaks automated attacks.                      |\n",
    "| **Login Response Delay or Blocking**| No delay or lockout after multiple failed attempts.                                        | Possible response delay or temporary blocking after several failed attempts.                   |\n",
    "| **Hidden Defenses (JS, Hidden Fields)** | Minimal hidden protection.                                                                | Extra hidden fields, JavaScript validations, or dynamic tokens complicate automation.          |\n",
    "| **Hydra Feedback**                   | Hydra clearly detects `\"Login failed\"` and can brute-force credentials easily.             | Hydra fails due to dynamic tokens and vague error handling.                                    |\n",
    "| **Evidence of Protection Activation**| No WAF rule triggers or blocking mechanisms observed.                                      | Logs in `/var/log/apache2/modsec_audit.log` show triggered rules and blocked IP addresses.     |\n",
    "\n"
   ]
  },
  {
   "cell_type": "markdown",
   "id": "e3320d88",
   "metadata": {},
   "source": [
    "![Hash passwords](imag/ms_3.jpeg)"
   ]
  },
  {
   "cell_type": "markdown",
   "id": "87ed2ab0",
   "metadata": {},
   "source": [
    "When attempting to bypass DVWA's \"hard\" level security using Hydra, the attack was unsuccessful. The tool launched 60 login attempts using a combination of usernames and passwords, but all were rejected. This happened because, at the \"hard\" security level, DVWA implements stronger defenses such as dynamic CSRF tokens (`user_token`) that change with every request. Since Hydra does not handle these dynamic tokens, it submits outdated or missing tokens, causing all login attempts to fail. Additionally, error messages are less explicit (e.g., no consistent \"Login failed\" text), which makes it harder for Hydra to detect failed attempts. This confirms that DVWA's hard level effectively mitigates automated brute force attacks."
   ]
  },
  {
   "cell_type": "markdown",
   "id": "7d6acd5b",
   "metadata": {},
   "source": [
    "## Effective countermeasures for each attack vector"
   ]
  },
  {
   "cell_type": "markdown",
   "id": "0e686f45",
   "metadata": {},
   "source": [
    "### 1. Password Hash Cracking (John the Ripper or Hashcat)\n",
    "\n",
    "**Attack Vector**:  \n",
    "Extraction and offline cracking of MD5-hashed passwords using tools like John the Ripper and Hashcat.\n",
    "\n",
    "**Countermeasures**:\n",
    "- Use strong hash algorithms like **bcrypt**, **Argon2**, or **scrypt** (avoid MD5/SHA1).\n",
    "- Apply **unique salts** to each password before hashing.\n",
    "- Enforce **strong password policies** (length, complexity, expiration).\n",
    "- Rate-limit login attempts to reduce attack surface even if hashes are leaked.\n",
    "\n",
    "---\n",
    "\n",
    "### 2. Weak Wordlists and Custom Rules\n",
    "\n",
    "**Attack Vector**:  \n",
    "Attackers optimize their wordlists and apply rules to generate common variations of passwords.\n",
    "\n",
    "**Countermeasures**:\n",
    "- Use breached-password detection **APIs** to reject common or exposed credentials.\n",
    "- Implement **multi-factor authentication (MFA)** to protect against password-only access.\n",
    "- Configure **lockouts or delay mechanisms** after a number of failed login attempts.\n",
    "\n",
    "---\n",
    "\n",
    "### 3. Brute Force via Hydra (HTTP POST)\n",
    "\n",
    "**Attack Vector**:  \n",
    "Automated brute force attacks via login forms using tools like Hydra.\n",
    "\n",
    "**Countermeasures**:\n",
    "- Add a **CAPTCHA** after several failed login attempts.\n",
    "- Use **WAFs like ModSecurity** or tools like `fail2ban` to monitor and **block IPs**.\n",
    "- Log and **alert on suspicious login behavior** such as repeated failures.\n",
    "\n",
    "---\n",
    "\n",
    "### 4. Weak Authentication in DVWA (Medium vs. Hard)\n",
    "\n",
    "**Attack Vector**:  \n",
    "Exploiting weak token/session validation and verbose error messages in medium security mode.\n",
    "\n",
    "**Countermeasures**:\n",
    "- Use **CSRF tokens** that are validated on the server and expire frequently.\n",
    "- Enforce proper **session expiration and regeneration** on login.\n",
    "- Set the following **cookie flags** to protect session data:\n",
    "\n",
    "  - `Secure`: Ensures that the cookie is **only transmitted over HTTPS** connections (SSL/TLS encryption), and **never sent in plaintext** over HTTP. This prevents interception by attackers during transit.\n",
    "  \n",
    "  - `HttpOnly`: Instructs the browser to **prevent client-side scripts (e.g., JavaScript)** from accessing the cookie. This mitigates the risk of **cross-site scripting (XSS)** attacks from stealing session tokens. *(Only effective if the browser supports it.)*\n",
    "  \n",
    "  - `SameSite`: Tells the browser **how to handle the cookie during cross-site requests**. This can prevent cookies from being sent in CSRF attacks, depending on the configuration (`Strict`, `Lax`, or `None`).\n",
    "\n",
    "These flags provide **additional security for session cookies**, reducing the chances of session hijacking or misuse by malicious actors.\n",
    "\n",
    "---\n",
    "\n",
    "### 5. Attempt to Bypass “Hard” Level Protections\n",
    "\n",
    "**Attack Vector**:  \n",
    "Advanced techniques such as manipulating sessions, logic flaws, or parameter tampering to bypass defenses.\n",
    "\n",
    "**Countermeasures**:\n",
    "- Perform **regular penetration testing** to uncover flaws in logic and authentication flow.\n",
    "- Use security-aware frameworks that handle tokens, sessions, and CSRF validation.\n",
    "- Always keep software and dependencies **up to date**.\n",
    "\n",
    "---\n",
    "\n",
    "### 6. Authentication Enumeration\n",
    "\n",
    "**Attack Vector**:  \n",
    "Guessing valid usernames based on response message differences or timing.\n",
    "\n",
    "**Countermeasures**:\n",
    "- Return **generic error messages** for all failed login attempts.\n",
    "- Ensure **consistent response time** regardless of username validity.\n",
    "- Monitor and alert for enumeration patterns via logs.\n",
    "\n",
    "---\n",
    "\n",
    "### Conclusion\n",
    "\n",
    "DVWA's hard-level security configuration demonstrates how a combination of **token rotation**, **session control**, **error message obfuscation**, and **WAF rules** can dramatically increase resistance to brute force and password cracking attacks. When combined with tools like **ModSecurity** and proper password management policies, systems can be made significantly more resilient to real-world authentication threats.\n"
   ]
  }
 ],
 "metadata": {
  "kernelspec": {
   "display_name": "base",
   "language": "python",
   "name": "python3"
  },
  "language_info": {
   "name": "python",
   "version": "3.12.2"
  }
 },
 "nbformat": 4,
 "nbformat_minor": 5
}
