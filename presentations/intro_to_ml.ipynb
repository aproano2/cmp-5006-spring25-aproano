{
 "cells": [
  {
   "cell_type": "markdown",
   "id": "74b1ccbb",
   "metadata": {
    "slideshow": {
     "slide_type": "slide"
    }
   },
   "source": [
    "# CMP 5006 - Information Security \n",
    "\n",
    "\n",
    "## Web Security\n",
    "\n",
    "\n",
    "### Alejandro Proano, PhD. "
   ]
  },
  {
   "cell_type": "markdown",
   "id": "a4628871",
   "metadata": {
    "slideshow": {
     "slide_type": "slide"
    }
   },
   "source": [
    "## Basic Concepts\n",
    "- **Machine Learning**: Systems that learn patterns from data to make predictions or decisions\n",
    "- **Artificial Intelligence**: Broader concept of machines mimicking human cognitive functions\n",
    "- **Key ML Paradigms**:\n",
    "  - Supervised learning: Training on labeled data\n",
    "  - Unsupervised learning: Finding patterns in unlabeled data\n",
    "  - Reinforcement learning: Learning via trial and error with rewards\n"
   ]
  },
  {
   "cell_type": "markdown",
   "id": "54f26fbb",
   "metadata": {
    "slideshow": {
     "slide_type": "slide"
    }
   },
   "source": [
    "## Key Components of ML Systems\n",
    "- **Data collection and preprocessing**\n",
    "- **Feature engineering and selection**\n",
    "- **Model training and validation**\n",
    "- **Hyperparameter tuning**\n",
    "- **Deployment and monitoring**\n"
   ]
  },
  {
   "cell_type": "markdown",
   "id": "89c96f7a",
   "metadata": {
    "slideshow": {
     "slide_type": "slide"
    }
   },
   "source": [
    "## Security Threats Landscape\n",
    "- **Why ML training is an attractive target**\n",
    "- **Threat actors: competitors, nation-states, cybercriminals**\n",
    "- **Risk impact: financial, reputational, operational**\n"
   ]
  },
  {
   "cell_type": "markdown",
   "id": "644db4bb",
   "metadata": {
    "slideshow": {
     "slide_type": "slide"
    }
   },
   "source": [
    "## Ethical Implications\n",
    "- **Privacy concerns in data collection**\n",
    "- **Bias and fairness in security models**\n",
    "- **Automation of offensive capabilities**\n",
    "- **Dual-use concerns**\n"
   ]
  },
  {
   "cell_type": "markdown",
   "id": "51d6368e",
   "metadata": {
    "slideshow": {
     "slide_type": "slide"
    }
   },
   "source": [
    "## Data Poisoning Attacks\n",
    "\n",
    "- **Definition**: Manipulation of training data to influence model behavior\n",
    "- **Attack goals**: Reduced accuracy, targeted misclassifications, backdoors\n",
    "- **Attack timing**: During data collection vs. during training\n"
   ]
  },
  {
   "cell_type": "markdown",
   "id": "533c7918",
   "metadata": {
    "slideshow": {
     "slide_type": "slide"
    }
   },
   "source": [
    "## Types of Data Poisoning Attacks\n",
    "- **Label flipping**: Changing labels in training data\n",
    "- **Clean-label poisoning**: Subtle modifications that preserve labels\n",
    "- **Backdoor attacks**: Training models to respond to specific triggers\n",
    "- **Logic corruption**: Altering the fundamental decision boundaries\n"
   ]
  },
  {
   "cell_type": "markdown",
   "id": "a3ef98c5",
   "metadata": {
    "slideshow": {
     "slide_type": "slide"
    }
   },
   "source": [
    "## Detection and Prevention\n",
    "- **Statistical anomaly detection**\n",
    "- **Robust training techniques**\n",
    "- **Data provenance and chain of custody**\n",
    "- **Input validation and sanitization**\n"
   ]
  },
  {
   "cell_type": "code",
   "execution_count": null,
   "id": "75c57ed3",
   "metadata": {},
   "outputs": [],
   "source": []
  }
 ],
 "metadata": {
  "celltoolbar": "Slideshow",
  "kernelspec": {
   "display_name": "Python 3 (ipykernel)",
   "language": "python",
   "name": "python3"
  },
  "language_info": {
   "codemirror_mode": {
    "name": "ipython",
    "version": 3
   },
   "file_extension": ".py",
   "mimetype": "text/x-python",
   "name": "python",
   "nbconvert_exporter": "python",
   "pygments_lexer": "ipython3",
   "version": "3.12.3"
  }
 },
 "nbformat": 4,
 "nbformat_minor": 5
}
