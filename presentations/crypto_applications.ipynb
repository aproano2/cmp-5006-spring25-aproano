{
 "cells": [
  {
   "cell_type": "markdown",
   "id": "93a7034b",
   "metadata": {
    "slideshow": {
     "slide_type": "slide"
    }
   },
   "source": [
    "# CMP 5006 - Information Security \n",
    "\n",
    "\n",
    "## Applications of Encryption\n",
    "\n",
    "\n",
    "### Alejandro Proano, PhD. "
   ]
  },
  {
   "cell_type": "markdown",
   "id": "56d7f2c8",
   "metadata": {
    "slideshow": {
     "slide_type": "slide"
    }
   },
   "source": [
    "# Systems for Communication Integrity and Authentication"
   ]
  },
  {
   "cell_type": "markdown",
   "id": "dcea6b27",
   "metadata": {
    "slideshow": {
     "slide_type": "slide"
    }
   },
   "source": [
    "## Introduction\n",
    "\n",
    "- **Integrity:** Ensuring messages are not altered during transmission\n",
    "- **Authentication:** Verifying the identity of the sender\n",
    "- Why they matter:\n",
    "  - Prevent unauthorized modifications\n",
    "  - Ensure message origin\n",
    "  - Protect against man-in-the-middle attacks\n"
   ]
  },
  {
   "cell_type": "markdown",
   "id": "d3020e6b",
   "metadata": {
    "slideshow": {
     "slide_type": "slide"
    }
   },
   "source": [
    "## Cryptographic Primitives Review\n",
    "\n",
    "- **Asymmetric Cryptography:** Public/Private key pairs\n",
    "- **Symmetric Cryptography:** Shared secret keys\n",
    "- **Cryptographic Hash Functions:** One-way, fixed-size output\n",
    "\n",
    "```python\n",
    "# Asymmetric example (simplified)\n",
    "ciphertext = encrypt(public_key, plaintext)\n",
    "plaintext = decrypt(private_key, ciphertext)\n",
    "\n",
    "# Symmetric example\n",
    "ciphertext = encrypt(shared_key, plaintext)\n",
    "plaintext = decrypt(shared_key, ciphertext)\n",
    "\n",
    "# Hash example\n",
    "hash_value = hash(\"Hello, World!\")\n",
    "```\n",
    "\n"
   ]
  },
  {
   "cell_type": "markdown",
   "id": "a87f38e3",
   "metadata": {
    "slideshow": {
     "slide_type": "slide"
    }
   },
   "source": [
    "## Digital Signatures\n",
    "\n",
    "- Uses asymmetric cryptography\n",
    "- Provides integrity, authentication, and non-repudiation\n",
    "- Process:\n",
    "  1. Hash the message\n",
    "  2. Encrypt hash with private key\n",
    "  3. Verify with public key\n"
   ]
  },
  {
   "cell_type": "markdown",
   "id": "9e2570fe",
   "metadata": {
    "slideshow": {
     "slide_type": "subslide"
    }
   },
   "source": [
    "### Digital Signatures\n",
    "\n",
    "```python\n",
    "def sign(private_key, message):\n",
    "    message_hash = hash(message)\n",
    "    return encrypt(private_key, message_hash)\n",
    "\n",
    "def verify(public_key, message, signature):\n",
    "    message_hash = hash(message)\n",
    "    decrypted_hash = decrypt(public_key, signature)\n",
    "    \n"
   ]
  },
  {
   "cell_type": "markdown",
   "id": "1bf0979d",
   "metadata": {
    "slideshow": {
     "slide_type": "slide"
    }
   },
   "source": [
    "## Message Authentication Codes (MACs)\n",
    "\n",
    "- Uses symmetric cryptography\n",
    "- Provides integrity and authentication\n",
    "- Requires a shared secret key\n",
    "- Process:\n",
    "  1. Combine message and key\n",
    "  2. Generate MAC\n",
    "  3. Verify MAC with the same key\n"
   ]
  },
  {
   "cell_type": "markdown",
   "id": "69521c4f",
   "metadata": {
    "slideshow": {
     "slide_type": "subslide"
    }
   },
   "source": [
    "## MACs\n",
    "\n",
    "```python\n",
    "def generate_mac(key, message):\n",
    "    return some_mac_function(key, message)\n",
    "\n",
    "def verify_mac(key, message, mac):\n",
    "    return generate_mac(key, message) == mac\n",
    "```\n"
   ]
  },
  {
   "cell_type": "markdown",
   "id": "983d9152",
   "metadata": {
    "slideshow": {
     "slide_type": "slide"
    }
   },
   "source": [
    "## Hash-based Message Authentication Code (HMAC)\n",
    "\n",
    "- Combines hash function and secret key\n",
    "- More resistant to certain attacks than simple MACs\n",
    "- Widely used in protocols like TLS\n"
   ]
  },
  {
   "cell_type": "markdown",
   "id": "6b384c4d",
   "metadata": {
    "slideshow": {
     "slide_type": "subslide"
    }
   },
   "source": [
    "## HMACs\n",
    "\n",
    "```python\n",
    "def hmac(key, message):\n",
    "    block_size = 64  # Example block size\n",
    "    if len(key) > block_size:\n",
    "        key = key\n",
    "    if len(key) < block_size:\n",
    "        key = key + b'\\0' * (block_size - len(key))\n",
    "    \n",
    "    o_key_pad = bytes([0x5c ^ b for b in key])\n",
    "    i_key_pad = bytes([0x36 ^ b for b in key])\n",
    "    \n",
    "    return hash(o_key_pad + hash(i_key_pad + message))\n",
    "```\n"
   ]
  },
  {
   "cell_type": "markdown",
   "id": "cdc8ffaf",
   "metadata": {
    "slideshow": {
     "slide_type": "slide"
    }
   },
   "source": [
    "##  Digital Certificates\n",
    "\n",
    "- Binds a public key to an entity's identity\n",
    "- Issued and signed by trusted Certificate Authorities (CAs)\n",
    "- Contains:\n",
    "  - Subject's information\n",
    "  - Public key\n",
    "  - Issuer information\n",
    "  - Digital signature of the CA\n"
   ]
  },
  {
   "cell_type": "markdown",
   "id": "d40e45a9",
   "metadata": {
    "slideshow": {
     "slide_type": "subslide"
    }
   },
   "source": [
    "## Digital Certificates\n",
    "\n",
    "```python\n",
    "certificate = {\n",
    "    \"subject\": \"example.com\",\n",
    "    \"public_key\": \"...\",\n",
    "    \"issuer\": \"Trusted CA\",\n",
    "    \"valid_from\": \"2023-01-01\",\n",
    "    \"valid_to\": \"2024-01-01\",\n",
    "    \"signature\": \"...\"\n",
    "}\n",
    "```\n"
   ]
  },
  {
   "cell_type": "markdown",
   "id": "8f794280",
   "metadata": {
    "slideshow": {
     "slide_type": "slide"
    }
   },
   "source": [
    "##  Practical Applications and Designs\n"
   ]
  },
  {
   "cell_type": "markdown",
   "id": "95faf0fa",
   "metadata": {
    "slideshow": {
     "slide_type": "subslide"
    }
   },
   "source": [
    "## Secure Email System\n",
    "\n",
    "```python\n",
    "def send_secure_email(sender_private_key, recipient_public_key, message):\n",
    "    signature = sign(sender_private_key, message)\n",
    "    encrypted_message = encrypt(recipient_public_key, message + signature)\n",
    "    return encrypted_message\n",
    "\n",
    "def receive_secure_email(recipient_private_key, sender_public_key, encrypted_message):\n",
    "    decrypted_content = decrypt(recipient_private_key, encrypted_message)\n",
    "    message, signature = split_message_and_signature(decrypted_content)\n",
    "    if verify(sender_public_key, message, signature):\n",
    "        return message\n",
    "    else:\n",
    "        raise Exception(\"Invalid signature\")\n",
    "```\n"
   ]
  },
  {
   "cell_type": "markdown",
   "id": "23a3f3f6",
   "metadata": {
    "slideshow": {
     "slide_type": "subslide"
    }
   },
   "source": [
    "## Secure API Communication\n",
    "\n",
    "```python\n",
    "def api_request(client_id, shared_secret, payload):\n",
    "    timestamp = get_current_timestamp()\n",
    "    message = f\"{client_id}:{timestamp}:{payload}\"\n",
    "    hmac_signature = hmac(shared_secret, message)\n",
    "    \n",
    "    headers = {\n",
    "        \"Authorization\": f\"HMAC {client_id}:{timestamp}:{hmac_signature}\"\n",
    "    }\n",
    "    \n",
    "    return send_http_request(payload, headers)\n",
    "\n",
    "def verify_api_request(request, shared_secrets):\n",
    "    auth_header = request.headers[\"Authorization\"]\n",
    "    client_id, timestamp, signature = parse_auth_header(auth_header)\n",
    "    \n",
    "    if is_timestamp_valid(timestamp) and client_id in shared_secrets:\n",
    "        expected_signature = hmac(shared_secrets[client_id], f\"{client_id}:{timestamp}:{request.body}\")\n",
    "        return signature == expected_signature\n",
    "    \n",
    "    return False\n",
    "```\n"
   ]
  },
  {
   "cell_type": "markdown",
   "id": "71ddb348",
   "metadata": {
    "slideshow": {
     "slide_type": "slide"
    }
   },
   "source": [
    "# Sharing Secret Keys for Symmetric Cryptography\n"
   ]
  },
  {
   "cell_type": "markdown",
   "id": "f4e38453",
   "metadata": {
    "slideshow": {
     "slide_type": "slide"
    }
   },
   "source": [
    "## Introduction\n",
    "\n",
    "- Symmetric cryptography relies on shared secret keys\n",
    "- Challenge: Securely distributing keys to communicating parties\n",
    "- Importance of secure key exchange:\n",
    "  - Prevents unauthorized access to encrypted communications\n",
    "  - Ensures confidentiality and integrity of data\n"
   ]
  },
  {
   "cell_type": "markdown",
   "id": "22f4ed1f",
   "metadata": {
    "slideshow": {
     "slide_type": "slide"
    }
   },
   "source": [
    "## The Key Distribution Problem\n",
    "\n",
    "- How to securely share a secret key over an insecure channel?\n",
    "- Vulnerabilities:\n",
    "  - Eavesdropping\n",
    "  - Man-in-the-middle attacks\n",
    "  - Impersonation\n"
   ]
  },
  {
   "cell_type": "markdown",
   "id": "c7dbac23",
   "metadata": {
    "slideshow": {
     "slide_type": "slide"
    }
   },
   "source": [
    "## Diffie-Hellman Key Exchange\n",
    "\n",
    "- Allows two parties to generate a shared secret over an insecure channel\n",
    "- Based on the discrete logarithm problem\n",
    "\n",
    "```python\n",
    "# Simplified Diffie-Hellman example\n",
    "p = 23  # Prime modulus\n",
    "g = 5   # Generator\n",
    "\n",
    "# Alice\n",
    "a = 6  # Alice's private key\n",
    "A = (g ** a) % p  # Alice's public key\n",
    "\n",
    "# Bob\n",
    "b = 15  # Bob's private key\n",
    "B = (g ** b) % p  # Bob's public key\n",
    "\n",
    "# Shared secret calculation\n",
    "s_alice = (B ** a) % p\n",
    "s_bob = (A ** b) % p\n",
    "\n",
    "assert s_alice == s_bob  # Shared secret is the same for both\n",
    "```\n"
   ]
  },
  {
   "cell_type": "markdown",
   "id": "87fb135f",
   "metadata": {
    "slideshow": {
     "slide_type": "slide"
    }
   },
   "source": [
    "## Key Distribution Center (KDC)\n",
    "\n",
    "- Trusted third party that distributes keys to authenticated users\n",
    "- Example: Kerberos authentication protocol\n",
    "\n",
    "```\n",
    "1. Client -> KDC: Request ticket\n",
    "2. KDC -> Client: Ticket encrypted with client's key\n",
    "3. Client -> Server: Ticket + Authenticator\n",
    "4. Server -> Client: Session key confirmation\n",
    "```\n",
    "\n",
    "Advantages:\n",
    "- Centralized key management\n",
    "- Supports authentication\n",
    "\n",
    "Disadvantages:\n",
    "- Single point of failure\n",
    "- Scalability issues\n"
   ]
  },
  {
   "cell_type": "markdown",
   "id": "e581b2c3",
   "metadata": {
    "slideshow": {
     "slide_type": "slide"
    }
   },
   "source": [
    "## Public Key Infrastructure (PKI)\n",
    "\n",
    "- Uses asymmetric cryptography to establish symmetric keys\n",
    "- Relies on trusted Certificate Authorities (CAs)\n",
    "\n",
    "Process:\n",
    "1. Client obtains server's public key (certificate)\n",
    "2. Client generates symmetric key\n",
    "3. Client encrypts symmetric key with server's public key\n",
    "4. Server decrypts symmetric key with its private key\n",
    "\n",
    "```python\n",
    "# Simplified example\n",
    "server_public_key = get_server_certificate().public_key\n",
    "symmetric_key = generate_random_key()\n",
    "encrypted_symmetric_key = encrypt(server_public_key, symmetric_key)\n",
    "send_to_server(encrypted_symmetric_key)\n",
    "```\n"
   ]
  },
  {
   "cell_type": "markdown",
   "id": "7fdbebe6",
   "metadata": {
    "slideshow": {
     "slide_type": "slide"
    }
   },
   "source": [
    "## Out-of-Band Key Exchange\n",
    "\n",
    "- Exchange keys through a separate, secure channel\n",
    "- Examples:\n",
    "  - In-person meeting\n",
    "  - Secure phone call\n",
    "  - Physical mail\n",
    "\n",
    "Advantages:\n",
    "- Simple and secure (if done correctly)\n",
    "- No reliance on complex protocols or third parties\n",
    "\n",
    "Disadvantages:\n",
    "- Not scalable\n",
    "- Impractical for many scenarios\n"
   ]
  },
  {
   "cell_type": "markdown",
   "id": "3e9e365c",
   "metadata": {
    "slideshow": {
     "slide_type": "slide"
    }
   },
   "source": [
    "## Forward Secrecy\n",
    "\n",
    "- Ensures past communications remain secure if long-term keys are compromised\n",
    "- Achieved by generating ephemeral session keys\n",
    "\n",
    "### Diffie-Hellman Ephemeral (DHE)\n",
    "\n",
    "- Generates new Diffie-Hellman parameters for each session\n",
    "- Used in protocols like TLS\n",
    "\n",
    "```python\n",
    "def generate_dhe_keys():\n",
    "    private_key = generate_random_number()\n",
    "    public_key = (g ** private_key) % p\n",
    "    return private_key, public_key\n",
    "\n",
    "# For each new session\n",
    "alice_private, alice_public = generate_dhe_keys()\n",
    "bob_private, bob_public = generate_dhe_keys()\n",
    "\n",
    "shared_secret = (bob_public ** alice_private) % p\n",
    "```\n"
   ]
  }
 ],
 "metadata": {
  "celltoolbar": "Slideshow",
  "kernelspec": {
   "display_name": "Python 3 (ipykernel)",
   "language": "python",
   "name": "python3"
  },
  "language_info": {
   "codemirror_mode": {
    "name": "ipython",
    "version": 3
   },
   "file_extension": ".py",
   "mimetype": "text/x-python",
   "name": "python",
   "nbconvert_exporter": "python",
   "pygments_lexer": "ipython3",
   "version": "3.12.3"
  }
 },
 "nbformat": 4,
 "nbformat_minor": 5
}
