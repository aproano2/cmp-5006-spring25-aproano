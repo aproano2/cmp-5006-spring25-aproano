{
 "cells": [
  {
   "cell_type": "markdown",
   "id": "624d5d3b",
   "metadata": {},
   "source": [
    "# CMP 5006 - Information Security \n",
    "\n",
    "\n",
    "## Web Security\n",
    "\n",
    "\n",
    "### Alejandro Proano, PhD. "
   ]
  },
  {
   "cell_type": "markdown",
   "id": "39080abb",
   "metadata": {
    "slideshow": {
     "slide_type": "slide"
    }
   },
   "source": [
    "## Privacy "
   ]
  },
  {
   "cell_type": "markdown",
   "id": "4f6283de",
   "metadata": {
    "slideshow": {
     "slide_type": "slide"
    }
   },
   "source": [
    "## What is privacy?"
   ]
  },
  {
   "cell_type": "markdown",
   "id": "24e3a237",
   "metadata": {
    "slideshow": {
     "slide_type": "slide"
    }
   },
   "source": [
    "### The right of privacy\n",
    "\n",
    "- The right to privacy is the ability of an individual to keep their personal information and private life out of the public domain. \n",
    "- The principle of privacy is essential to human dignity and the protection of our autonomy, dignity, and personal identity. \n",
    "- It is a fundamental right that has been recognized by the Constitution of many countries around the world.\n",
    "- The Universal Declaration of Human Rights. Article 12 reads: \n",
    "\n",
    "> **“No one shall be subjected to arbitrary interference with his privacy, family, home or correspondence, nor to attacks upon his honor and reputation. Everyone has the right to the protection of the law against such interference or attacks.”**"
   ]
  },
  {
   "cell_type": "markdown",
   "id": "4f5c1a78",
   "metadata": {
    "slideshow": {
     "slide_type": "slide"
    }
   },
   "source": [
    "### Violations to the right of privacy\n",
    "\n",
    "Any participant in society can violate another’s privacy, but privacy rights are especially important when it comes to entities more powerful than individuals. \n",
    "\n",
    "- Governments like to spy on people. \n",
    "    - In 2013, whistleblower Edward Snowden revealed that the NSA was illegally spying on American citizens. \n",
    "    - The FBI have been caught violating privacy rights, indicating that this is a systemic problem.\n",
    "    - “National security” is often given as an excuse, but the right to privacy is clearly being violated in most of these instances.\n",
    "\n",
    "- Corporations like to use your data for their benefit. \n",
    "    - Corporations are constantly collecting info to study your shopping habits, what you like and dislike, and more. \n",
    "    - They often say it’s to improve customer service, but this information can be weaponized, too. \n",
    "    - Cambridge Analytica took data from Facebook – without user consent – and used it to influence voters through political ads. \n",
    "    - This is a violation of privacy rights. After the story broke, Cambridge Analytica filed for Chapter 7 bankruptcy in 2018, while the FTC fined Facebook $5 billion in 2019.\n",
    "\n",
    "- Privacy protects the freedom of thought and speech. \n",
    "    - Without privacy, everyone could be openly monitored and intimidated by much more powerful forces. \n",
    "    - Critics of the government – such as journalists – could have their computers seized and searched without consequences, threatening the right to freedom of speech. \n"
   ]
  },
  {
   "cell_type": "markdown",
   "id": "7d72a73b",
   "metadata": {
    "slideshow": {
     "slide_type": "slide"
    }
   },
   "source": [
    "### Privacy protections\n",
    "\n",
    "- The federal government of the United States has two laws that govern the collection and use of personal information: the Privacy Act of 1974 and the privacy provisions of the E-Government Act of 2002; enforced by the Federal Trade Commission (FTC).\n",
    "\n",
    "- In the private sector, commercial entities collect, share, and sell vast amounts of personal information for marketing and other purposes. Proliferating breaches and the demand of consumers for privacy and control of their own data have led governments to adopt new regulations, such as the General Data Protection Regulation (GDPR) in Europe and the California Consumer Privacy Act (CCPA) in that US state.\n",
    "\n",
    "- To mitigate cyber risk and increase privacy protection, businesses can suggest transparent and independently verifiable protections for consumers \n",
    "\n",
    "- It is also becoming increasingly clear that there is very little that consumers can do to mitigate their loss of privacy from third parties (with whom, very often, they do not even have a relationship).\n"
   ]
  },
  {
   "cell_type": "markdown",
   "id": "f2728f06",
   "metadata": {
    "slideshow": {
     "slide_type": "subslide"
    }
   },
   "source": [
    "### Terms of service\n",
    "\n",
    "ToS agreements typically contain sections pertaining to one or more of the following topics:\n",
    "\n",
    "- Disambiguation/definition of key words and phrases\n",
    "- User rights and responsibilities\n",
    "- Proper or expected usage; definition of misuse\n",
    "- Accountability for online actions, behavior, and conduct\n",
    "- Privacy policy outlining the use of personal data\n",
    "\n",
    "**The Privacy Policy outlines the data practices of the company, including the types of information they collect from users, how they use and share this information, and the rights of users in relation to the processing of their information.** \n",
    "\n",
    "**It also explains the steps taken by the company to protect user privacy, such as building their services so that delivered messages aren’t stored by them and giving users control over who they communicate with on their services.**\n"
   ]
  },
  {
   "cell_type": "markdown",
   "id": "5c3a0e28",
   "metadata": {
    "slideshow": {
     "slide_type": "subslide"
    }
   },
   "source": [
    "### WhatsApp’s  example\n",
    "\n",
    "- WhatsApp’s Privacy Policy describes the data practices of the company, including the types of information they collect from users, how they use and share this information, and the rights of users in relation to the processing of their information.\n",
    "\n",
    "- The Privacy Policy also explains the steps taken by WhatsApp to protect user privacy, such as building their services so that delivered messages aren’t stored by them and giving users control over who they communicate with on their services.\n",
    "\n",
    "- WhatsApp must receive or collect some information to operate, provide, improve, understand, customize, support, and market their services, including when users install, access, or use their services.\n",
    "\n",
    "- The types of information they receive and collect depend on how users use their services. \n",
    "    - Users must provide their mobile phone number to create an account to use their services.\n",
    "\n",
    "- The Privacy Policy also provides more information on how WhatsApp processes user data, and their commitment to privacy. \n",
    "\n",
    "- They have added more information about more recent product features and functionalities, how they process user data for safety, security, and integrity, and added more direct links to user settings, Help Center articles, and how users can manage their information.\n"
   ]
  },
  {
   "cell_type": "markdown",
   "id": "b34d85b9",
   "metadata": {
    "slideshow": {
     "slide_type": "subslide"
    }
   },
   "source": [
    "### WhatsApp’s  example\n",
    "\n",
    "WhatsApp shares a lot of information with Facebook, including account information like:\n",
    "- your phone number\n",
    "- logs of how long and how often you use WhatsApp\n",
    "- information about how you interact with other users\n",
    "- device identifiers\n",
    "- IP address\n",
    "- operating system\n",
    "- browser details\n",
    "- battery health information\n",
    "- app version\n",
    "- mobile network\n",
    "- language and time zone\n",
    "\n",
    "**However, WhatsApp says data is only shared with Facebook for purposes such as preventing spam, and not for advertising.**"
   ]
  }
 ],
 "metadata": {
  "celltoolbar": "Slideshow",
  "kernelspec": {
   "display_name": "Python 3 (ipykernel)",
   "language": "python",
   "name": "python3"
  },
  "language_info": {
   "codemirror_mode": {
    "name": "ipython",
    "version": 3
   },
   "file_extension": ".py",
   "mimetype": "text/x-python",
   "name": "python",
   "nbconvert_exporter": "python",
   "pygments_lexer": "ipython3",
   "version": "3.12.3"
  }
 },
 "nbformat": 4,
 "nbformat_minor": 5
}
